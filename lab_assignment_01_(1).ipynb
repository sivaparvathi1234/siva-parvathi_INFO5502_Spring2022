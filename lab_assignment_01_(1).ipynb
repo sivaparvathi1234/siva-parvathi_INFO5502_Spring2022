{
  "cells": [
    {
      "cell_type": "markdown",
      "metadata": {
        "id": "view-in-github",
        "colab_type": "text"
      },
      "source": [
        "<a href=\"https://colab.research.google.com/github/sivaparvathi1234/siva-parvathi_INFO5502_Spring2022/blob/main/lab_assignment_01_(1).ipynb\" target=\"_parent\"><img src=\"https://colab.research.google.com/assets/colab-badge.svg\" alt=\"Open In Colab\"/></a>"
      ]
    },
    {
      "cell_type": "markdown",
      "metadata": {
        "id": "DymRJbxDBCnf"
      },
      "source": [
        "# **The first Lab-assignment (01/25/2022, 50 points in total)**"
      ]
    },
    {
      "cell_type": "markdown",
      "metadata": {
        "id": "jJDe71iLB616"
      },
      "source": [
        "(1) Write a Python program to count the number of characters in a string. (5 points)\n",
        "\n",
        "Sample String : 'google.com', \n",
        "\n",
        "Expected Result : {'o': 3, 'g': 2, '.': 1, 'e': 1, 'l': 1, 'm': 1, 'c': 1}"
      ]
    },
    {
      "cell_type": "code",
      "execution_count": 45,
      "metadata": {
        "colab": {
          "base_uri": "https://localhost:8080/"
        },
        "id": "MtKskTzbCLaU",
        "outputId": "8f4a4ce4-d2be-4c37-9440-6f2e29351c25"
      },
      "outputs": [
        {
          "output_type": "stream",
          "name": "stdout",
          "text": [
            "{'g': 2, 'o': 3, 'l': 1, 'e': 1, '.': 1, 'c': 1, 'm': 1}\n"
          ]
        }
      ],
      "source": [
        "# write your answer here\n",
        "def count_character(string1):\n",
        "  dictionary = {}\n",
        "\n",
        "  for n in string1:\n",
        "    k = dictionary.keys()\n",
        "    if n in k:\n",
        "      dictionary[n] =dictionary[n]+1\n",
        "    else:\n",
        "      dictionary[n] = 1\n",
        "  return dictionary\n",
        "print(count_character('google.com'))"
      ]
    },
    {
      "cell_type": "markdown",
      "metadata": {
        "id": "55W9AMdXCSpV"
      },
      "source": [
        "(2) Write a Python program to sum all the items in a list. (5 points)"
      ]
    },
    {
      "cell_type": "code",
      "execution_count": 1,
      "metadata": {
        "colab": {
          "base_uri": "https://localhost:8080/"
        },
        "id": "I57NXsauCec2",
        "outputId": "e7eb51d0-4c88-4b2f-c2af-7a0268a633ae"
      },
      "outputs": [
        {
          "output_type": "stream",
          "name": "stdout",
          "text": [
            "Enter elements of list2 3 4 5 6\n",
            "20\n"
          ]
        }
      ],
      "source": [
        "# write your answer here\n",
        "c=0\n",
        "l=input(\"Enter elements of list\") #taking list input elements from user\n",
        "li=l.split()#used to split an input string by space\n",
        "for i in range(len(li)):\n",
        "  li[i]=int(li[i])\n",
        "  c=c+li[i]\n",
        "print(c)"
      ]
    },
    {
      "cell_type": "markdown",
      "metadata": {
        "id": "4ulBZ6yhCi9F"
      },
      "source": [
        "(3) Write a Python program to get a string from a given string where all occurrences of its first char have been changed to '\\$', except the first char itself. (5 points)\n",
        "\n",
        "Sample String : 'restart', \n",
        "\n",
        "Expected Result : 'resta\\$t'"
      ]
    },
    {
      "cell_type": "code",
      "execution_count": 4,
      "metadata": {
        "colab": {
          "base_uri": "https://localhost:8080/"
        },
        "id": "Fj0XhwbBCw2o",
        "outputId": "5ef1b243-4d99-4ff9-ef18-7cd5fc625890"
      },
      "outputs": [
        {
          "output_type": "stream",
          "name": "stdout",
          "text": [
            "enter stringpappu\n",
            "pa$$u\n"
          ]
        }
      ],
      "source": [
        "# write your answer here\n",
        "inp=input(\"enter string\")\n",
        "def cg(st):\n",
        "  c=st[0]\n",
        "  st=st.replace(c,'$')\n",
        "  st=c+st[1:]\n",
        "\n",
        "  return st\n",
        "print(cg(inp))\n"
      ]
    },
    {
      "cell_type": "markdown",
      "metadata": {
        "id": "_bIP7s1MCzue"
      },
      "source": [
        "(4) Write a program with python which could accept two parameter a and b to calculate and output the result of S, where \n",
        "\n",
        "$\\ S=3.14*(1+a/b)^3$ (5 points)\n",
        "\n"
      ]
    },
    {
      "cell_type": "code",
      "execution_count": 5,
      "metadata": {
        "colab": {
          "base_uri": "https://localhost:8080/"
        },
        "id": "w79QilHXD3Mg",
        "outputId": "da6d8eae-af0d-4e2c-94f6-8fd9eeeb9a3e"
      },
      "outputs": [
        {
          "output_type": "stream",
          "name": "stdout",
          "text": [
            "enter value of a24\n",
            "enter value of b45\n",
            "11.319816296296295\n"
          ]
        }
      ],
      "source": [
        "# write your answer here\n",
        "a=float(input(\"enter value of a\"))\n",
        "b=float(input(\"enter value of b\"))\n",
        "p=(1+a/b)\n",
        "c=p*p*p\n",
        "S=3.14*c\n",
        "print(S)"
      ]
    },
    {
      "cell_type": "markdown",
      "metadata": {
        "id": "xCa2bK9aD4Q3"
      },
      "source": [
        "(5) Write a Python program to concatenate following dictionaries to create a new one. (5 points)\n",
        "\n",
        "Sample Dictionary : dic1={1:10, 2:20}, dic2={3:30, 4:40}, dic3={5:50,6:60}, \n",
        "\n",
        "Expected Result : {1: 10, 2: 20, 3: 30, 4: 40, 5: 50, 6: 60}\n"
      ]
    },
    {
      "cell_type": "code",
      "execution_count": 7,
      "metadata": {
        "colab": {
          "base_uri": "https://localhost:8080/"
        },
        "id": "_z4aLqAbEET1",
        "outputId": "d1b140ec-7d11-4dca-c438-2fcbf812d74d"
      },
      "outputs": [
        {
          "output_type": "stream",
          "name": "stdout",
          "text": [
            "{1: 10, 2: 20, 3: 30, 4: 40, 5: 50, 6: 60}\n"
          ]
        }
      ],
      "source": [
        "# write your answer here\n",
        "dic1={1:10,2:20}\n",
        "dic2={3:30,4:40}\n",
        "dic3={5:50,6:60}\n",
        "k,l=[],[]\n",
        "k1,l1=list(dic1.keys()),list(dic1.values())\n",
        "k2,l2=list(dic2.keys()),list(dic2.values())\n",
        "k3,l3=list(dic3.keys()),list(dic3.values())\n",
        "k.extend(k1)\n",
        "l.extend(l1)\n",
        "k.extend(k2)\n",
        "l.extend(l2)\n",
        "k.extend(k3)\n",
        "l.extend(l3)\n",
        "dic=dict(zip(k,l))\n",
        "print(dic)"
      ]
    },
    {
      "cell_type": "markdown",
      "metadata": {
        "id": "0v48Vqa7FrQh"
      },
      "source": [
        "(6) Write a Python program to check whether an element exists within a tuple. (5 points)"
      ]
    },
    {
      "cell_type": "code",
      "execution_count": 37,
      "metadata": {
        "colab": {
          "base_uri": "https://localhost:8080/"
        },
        "id": "7WEmgq-DF2P1",
        "outputId": "e4f176ea-185d-41f1-89ad-37eaee7c9ab8"
      },
      "outputs": [
        {
          "output_type": "stream",
          "name": "stdout",
          "text": [
            "1 2 3 4 5\n",
            "4\n",
            "found\n"
          ]
        }
      ],
      "source": [
        "# write your answer here\n",
        "t=tuple(input().split())\n",
        "x=input()\n",
        "for i in t:\n",
        "  if i==x:\n",
        "    print(\"found\")\n",
        "    break\n",
        "else:\n",
        "    print(\"not found\")\n"
      ]
    },
    {
      "cell_type": "markdown",
      "metadata": {
        "id": "vD5PYLMuGga_"
      },
      "source": [
        "(7) Write a Python program to find maximum and the minimum value in a set. (5 points)"
      ]
    },
    {
      "cell_type": "code",
      "execution_count": 17,
      "metadata": {
        "colab": {
          "base_uri": "https://localhost:8080/"
        },
        "id": "t0D5kdJUGjjw",
        "outputId": "02fa7f8a-b9f2-44a3-adc6-74098acae164"
      },
      "outputs": [
        {
          "output_type": "stream",
          "name": "stdout",
          "text": [
            "1 2 3 45 6 \n",
            "Maximum is  45 and minimum is  1\n"
          ]
        }
      ],
      "source": [
        "# write your answer here\n",
        "l=list(map(int,input().split()))\n",
        "s=set(l)\n",
        "max1=l[0]\n",
        "min1=max1\n",
        "s.add(max1)\n",
        "for i in s:\n",
        "  if i>max1:\n",
        "    max1=i\n",
        "  if i<min1:\n",
        "    min1=i\n",
        "print(\"Maximum is \",max1,\"and\",\"minimum is \",min1)"
      ]
    },
    {
      "cell_type": "markdown",
      "metadata": {
        "id": "uHkd-y5VhVWC"
      },
      "source": [
        "(8) Write a Python program to randomly divide the students in this class into six groups for term projects, each group should have at least 4 students but no more than 6 students (including 6). Here is the students list: (5 points)\n",
        "\n",
        "studnet_list = ['ja0964','sa1198','sb1357','vb0218','sc1229','kg0569','kg0470','sg1297','bg0320','fh0141','jl1252','sk1386',\n",
        "           'ak0956','sk1390','sk1458','sk1313','ak0934','vm0377','nm0618','sm1640','sm1907','gn0108','pr0353','dr0609','ms1500','aos0040','ds0814', 'av0659','nv0234','hy0232']"
      ]
    },
    {
      "cell_type": "code",
      "execution_count": 49,
      "metadata": {
        "colab": {
          "base_uri": "https://localhost:8080/"
        },
        "id": "3iGbmcOBhTwy",
        "outputId": "c57b1e8e-5c11-45b5-b729-e17af5775f36"
      },
      "outputs": [
        {
          "output_type": "stream",
          "name": "stdout",
          "text": [
            "['sk1313', 'jl1252', 'pr0353', 'ak0934', 'bg0320']\n",
            "['sa1198', 'vb0218', 'sg1297', 'av0659', 'nm0618', 'ms1500']\n",
            "['kg0569', 'vb0218', 'aos0040', 'av0659', 'bg0320']\n",
            "['aos0040', 'sk1390', 'ms1500', 'ja0964', 'ak0956']\n",
            "['jl1252', 'sm1907', 'ja0964', 'kg0569', 'vb0218', 'sk1390']\n",
            "['kg0569', 'av0659', 'dr0609', 'jl1252']\n"
          ]
        }
      ],
      "source": [
        "# write your answer here\n",
        "from random import sample,randint\n",
        "li = ['ja0964','sa1198','sb1357','vb0218','sc1229','kg0569','kg0470','sg1297','bg0320','fh0141','jl1252','sk1386', 'ak0956','sk1390','sk1458','sk1313','ak0934','vm0377','nm0618','sm1640','sm1907','gn0108','pr0353','dr0609','ms1500','aos0040','ds0814', 'av0659','nv0234','hy0232']\n",
        "def group(li: list, no_ppl : int):\n",
        " for i in range(no_ppl):\n",
        "   print(sample(li,randint(4,6)))\n",
        "no_ppl = 6\n",
        "group(li,no_ppl)"
      ]
    },
    {
      "cell_type": "markdown",
      "metadata": {
        "id": "3g6qRb1OsgyG"
      },
      "source": [
        "(9) Write a Python program to find the duplicate elements in a given array of integers. Return -1 If there are no such elements. (5 points)"
      ]
    },
    {
      "cell_type": "code",
      "execution_count": 46,
      "metadata": {
        "colab": {
          "base_uri": "https://localhost:8080/"
        },
        "id": "WnqIB6qWsgyH",
        "outputId": "7ad37ee9-79c6-4c77-c2d3-471a1ba07676"
      },
      "outputs": [
        {
          "output_type": "stream",
          "name": "stdout",
          "text": [
            "1 2 3 4\n",
            "-1\n"
          ]
        }
      ],
      "source": [
        "# write your answer here\n",
        "def dup(l):\n",
        "  s=set(l)\n",
        "  if len(s)==len(l):\n",
        "    return -1\n",
        "  for i in s:\n",
        "    l.remove(i)\n",
        "  return l\n",
        "m=map(int,input().split())\n",
        "l=list(m)\n",
        "print(dup(l))"
      ]
    },
    {
      "cell_type": "markdown",
      "metadata": {
        "id": "aM6uGRbMsgyH"
      },
      "source": [
        "(10) Write a Python program to select all the Sundays of a specified year. (5 extra points)"
      ]
    },
    {
      "cell_type": "code",
      "execution_count": 36,
      "metadata": {
        "colab": {
          "base_uri": "https://localhost:8080/"
        },
        "id": "9J3wa_UbsgyH",
        "outputId": "e3ae8088-7ac7-46a0-ec18-29bcb498ae6e"
      },
      "outputs": [
        {
          "output_type": "stream",
          "name": "stdout",
          "text": [
            "Sunday,1-1-2023\n",
            "Sunday,8-1-2023\n",
            "Sunday,15-1-2023\n",
            "Sunday,22-1-2023\n",
            "Sunday,29-1-2023\n",
            "Sunday,5-2-2023\n",
            "Sunday,12-2-2023\n",
            "Sunday,19-2-2023\n",
            "Sunday,26-2-2023\n",
            "Sunday,5-3-2023\n",
            "Sunday,12-3-2023\n",
            "Sunday,19-3-2023\n",
            "Sunday,26-3-2023\n",
            "Sunday,2-4-2023\n",
            "Sunday,9-4-2023\n",
            "Sunday,16-4-2023\n",
            "Sunday,23-4-2023\n",
            "Sunday,30-4-2023\n",
            "Sunday,7-5-2023\n",
            "Sunday,14-5-2023\n",
            "Sunday,21-5-2023\n",
            "Sunday,28-5-2023\n",
            "Sunday,4-6-2023\n",
            "Sunday,11-6-2023\n",
            "Sunday,18-6-2023\n",
            "Sunday,25-6-2023\n",
            "Sunday,2-7-2023\n",
            "Sunday,9-7-2023\n",
            "Sunday,16-7-2023\n",
            "Sunday,23-7-2023\n",
            "Sunday,30-7-2023\n",
            "Sunday,6-8-2023\n",
            "Sunday,13-8-2023\n",
            "Sunday,20-8-2023\n",
            "Sunday,27-8-2023\n",
            "Sunday,3-9-2023\n",
            "Sunday,10-9-2023\n",
            "Sunday,17-9-2023\n",
            "Sunday,24-9-2023\n",
            "Sunday,1-10-2023\n",
            "Sunday,8-10-2023\n",
            "Sunday,15-10-2023\n",
            "Sunday,22-10-2023\n",
            "Sunday,29-10-2023\n",
            "Sunday,5-11-2023\n",
            "Sunday,12-11-2023\n",
            "Sunday,19-11-2023\n",
            "Sunday,26-11-2023\n",
            "Sunday,3-12-2023\n",
            "Sunday,10-12-2023\n",
            "Sunday,17-12-2023\n",
            "Sunday,24-12-2023\n",
            "Sunday,31-12-2023\n"
          ]
        }
      ],
      "source": [
        "# write your answer here\n",
        "from datetime import date #including date from datetime module\n",
        "import calendar #importing calendar from calendar module\n",
        "year= 2023\n",
        "\n",
        "S=calendar.TextCalendar(calendar.SUNDAY)\n",
        "for p in range(1,13):\n",
        "   for a in S.itermonthdays(year,p):\n",
        "       if a!=0:\n",
        "         day=date(year,p,a)\n",
        "         if day.weekday()==6:\n",
        "           print(\"%s,%d-%d-%d\" % (calendar.day_name[6] ,a,p,year))\n",
        "\n"
      ]
    }
  ],
  "metadata": {
    "colab": {
      "collapsed_sections": [],
      "name": "lab_assignment_01 (1).ipynb",
      "provenance": [],
      "include_colab_link": true
    },
    "kernelspec": {
      "display_name": "Python 3",
      "language": "python",
      "name": "python3"
    },
    "language_info": {
      "codemirror_mode": {
        "name": "ipython",
        "version": 3
      },
      "file_extension": ".py",
      "mimetype": "text/x-python",
      "name": "python",
      "nbconvert_exporter": "python",
      "pygments_lexer": "ipython3",
      "version": "3.8.5"
    }
  },
  "nbformat": 4,
  "nbformat_minor": 0
}