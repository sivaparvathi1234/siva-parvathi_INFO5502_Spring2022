{
  "cells": [
    {
      "cell_type": "markdown",
      "metadata": {
        "id": "view-in-github",
        "colab_type": "text"
      },
      "source": [
        "<a href=\"https://colab.research.google.com/github/sivaparvathi1234/siva-parvathi_INFO5502_Spring2022/blob/main/lab_assignment_05.ipynb\" target=\"_parent\"><img src=\"https://colab.research.google.com/assets/colab-badge.svg\" alt=\"Open In Colab\"/></a>"
      ]
    },
    {
      "cell_type": "markdown",
      "metadata": {
        "id": "d8jZ_AASryna"
      },
      "source": [
        "## The fifth Lab-assignment (02/24/2022, 50 points in total)"
      ]
    },
    {
      "cell_type": "markdown",
      "metadata": {
        "id": "a-tfeIthrynm"
      },
      "source": [
        "The purpose of this exercise is to understand Data Visualization, we will practice how to create visualizations for different datasets bu using different tools."
      ]
    },
    {
      "cell_type": "markdown",
      "metadata": {
        "id": "MviCBnvFrynq"
      },
      "source": [
        "Question 1 (15 points). In this questions, you will design a visualization for a small data set and provide a rigorous rationale for your design choices. \n",
        "\n",
        "Every 10 years, the census bureau documents the demographic make-up of the United States, influencing everything from congressional districting to social services. This dataset contains a high-level summary of census data for two years a century apart: 1900 and 2000. The data is a CSV (comma-separated values) file that describes the U.S. population in terms of year, reported sex (1: male, 2: female), age group (binned into 5 year segments from 0-4 years old up to 90+ years old), and the total count of people per group. There are 38 data points per year, for a total of 76 data points.\n",
        "\n",
        "You can download the dataset here: \n",
        "\n",
        "Dataset: https://github.com/unt-iialab/info5502-spring2022/blob/main/datasets/lab_assignment_05_census.csv\n",
        "\n",
        "Source: https://www.ipums.org/\n",
        "\n",
        "(1) Start by choosing a question you'd like a visualization to answer.\n",
        "\n",
        "(2) Generate a static visualization (i.e., a single image) that you believe effectively answers that question, and use the question as the title of your graphic.\n",
        "\n",
        "(3) Provide a short write-up (no more than 3 paragraphs) describing your design.\n",
        "\n",
        "\n",
        "While you must use the data set given, you are free to transform the data as you see fit. Such transforms may include (but are not limited to) log transformation, computing percentages or averages, grouping elements into new categories, or removing unnecessary variables or records. You are also free to incorporate external data as you see fit. Your chart image should be interpretable without recourse to your short write-up. Do not forget to include title, axis labels or legends as needed!\n",
        "\n",
        "As different visualizations can emphasize different aspects of a data set, you should document what aspects of the data you are attempting to most effectively communicate. In short, what story are you trying to tell? Just as important, also note which aspects of the data might be obscured or down-played due to your visualization design.\n",
        "\n",
        "In your write-up, you should provide a rigorous rationale for your design decisions. Document the visual encodings you used and why they are appropriate for the data and your specific question. These decisions include the choice of visualization type, size, color, scale, and other visual elements, as well as the use of sorting or other data transformations. How do these decisions facilitate effective communication?"
      ]
    },
    {
      "cell_type": "code",
      "execution_count": 1,
      "metadata": {
        "colab": {
          "base_uri": "https://localhost:8080/",
          "height": 35
        },
        "id": "xzAkSF3prynu",
        "outputId": "b870bdc7-950b-4983-ae1b-07e3d9fda09e"
      },
      "outputs": [
        {
          "output_type": "execute_result",
          "data": {
            "text/plain": [
              "'\\nQuestion:\\n. Visualise a plot that shows the count of genders in different age groups and inference the observations.\\n'"
            ],
            "application/vnd.google.colaboratory.intrinsic+json": {
              "type": "string"
            }
          },
          "metadata": {},
          "execution_count": 1
        }
      ],
      "source": [
        "# Your answer here (question + explanation):\n",
        "'''\n",
        "Question:\n",
        ". Visualise a plot that shows the count of genders in different age groups and inference the observations.\n",
        "'''"
      ]
    },
    {
      "cell_type": "code",
      "execution_count": 8,
      "metadata": {
        "colab": {
          "base_uri": "https://localhost:8080/",
          "height": 290
        },
        "id": "LUye-lc8ryn0",
        "outputId": "ef79b71a-c7dc-4292-911e-cc0ec53598fb"
      },
      "outputs": [
        {
          "output_type": "display_data",
          "data": {
            "text/plain": [
              "<Figure size 432x288 with 1 Axes>"
            ],
            "image/png": "[encoded data removed]"
          },
          "metadata": {
            "needs_background": "light"
          }
        }
      ],
      "source": [
        "# Your answer here (python code + explanation):\n",
        "import pandas as pd\n",
        "import seaborn as sns\n",
        "import matplotlib.pyplot as plt\n",
        "\n",
        "df = pd.read_csv(\"https://raw.githubusercontent.com/unt-iialab/info5502-spring2022/main/datasets/lab_assignment_05_census.csv\", sep=\",\")\n",
        "sns.barplot(data=df, x='Age', y='People', hue='Sex')\n",
        "plt.ticklabel_format(axis='y')\n",
        "plt.show()"
      ]
    },
    {
      "cell_type": "markdown",
      "metadata": {
        "id": "gqy2yvyIryn1"
      },
      "source": [
        "3.)# Your answer here (interpretation of the results):\n",
        "\n",
        "Design Strategy:"
      ]
    },
    {
      "cell_type": "markdown",
      "metadata": {
        "id": "6GbQ7mVyryn1"
      },
      "source": [
        ". I imported the necessary libraries pandas, matplotlib"
      ]
    },
    {
      "cell_type": "markdown",
      "metadata": {
        "id": "ntrJyk0Iryn2"
      },
      "source": [
        ". I used stacked bar chart to represent 3 attributes Age, People count, Gender of the people in the same plot."
      ]
    },
    {
      "cell_type": "markdown",
      "metadata": {
        "id": "ZRuyD0bwryn3"
      },
      "source": [
        ". Since the poeple population count is in billions, I used the tick label format method to format the population count in billions. It's easy to ready if the population is represented in plain style format."
      ]
    },
    {
      "cell_type": "markdown",
      "metadata": {
        "id": "Dihjo0Upryn4"
      },
      "source": [
        ". It is observed that the population count of Sex 1 is higher until the age group 40."
      ]
    },
    {
      "cell_type": "markdown",
      "metadata": {
        "id": "nsk1XRXiryn5"
      },
      "source": [
        ". And from the age group 45 and above, the population count of sex2 is higher than sex1."
      ]
    },
    {
      "cell_type": "markdown",
      "metadata": {
        "id": "hqUg67i6ryn5"
      },
      "source": [
        "  \n",
        "  \n"
      ]
    },
    {
      "cell_type": "markdown",
      "metadata": {
        "id": "-m-eUj9Xryn6"
      },
      "source": [
        "   "
      ]
    },
    {
      "cell_type": "markdown",
      "metadata": {
        "id": "N_WEUGCVryn6"
      },
      "source": [
        "Question 2 (20 points). In this question, you are required to use visualizations to tell a story about a dataset.\n",
        "\n",
        "Step 1. Pick a domain and data set that you are interested in.\n",
        "\n",
        "Peruse the provided data sets: http://nixdell.com/classes/HCI-and-Design-Spring-2016/Resources.html.\n",
        "\n",
        "Choose the one of greatest interest to you. If you would like to explore a different data set, you are free to do so but be aware of how much work might be needed to clean the data and get it into a usable format.\n",
        "\n",
        "Step 2. Explore the data. Find a story. Ask questions.\n",
        "\n",
        "Start by asking questions. For example: Is there a relationship between melting point and atomic number? Are the brightness and color of stars correlated? Are there different patterns of nucleotides in different regions in human DNA?\n",
        "\n",
        "Step 3. Assess the fitness of the data for answering your question.\n",
        "\n",
        "Inspect the data -- it is invariably helpful to first look at the raw values. Does the data seem appropriate for answering your question? If not, you may need to start the process over. If so, does the data need to be reformatted or cleaned prior to analysis? Perform any steps necessary to get the data into shape prior to visual analysis.\n",
        "\n",
        "Step 4. Create the visualization(s) that tell a story about the data.\n",
        "\n",
        "You will likely need to create several and see what works best. Keep a record of things you tried and discarded.\n"
      ]
    },
    {
      "cell_type": "code",
      "execution_count": null,
      "metadata": {
        "id": "Sd9h7IOJryn7"
      },
      "outputs": [],
      "source": [
        "# step 1:\n",
        "'''\n",
        ". I have a personal interest in analysing text data of a digital repository.\n",
        "The link to that digital repo is: https://ddr.densho.org/narrators/?page=1\n",
        ". The domain I have chosen belongs to NLP where we choose the text data obtained by web scraping and \n",
        "analyse the attributes by using various tools and techniques.\n",
        ". \n",
        "'''"
      ]
    },
    {
      "cell_type": "code",
      "execution_count": null,
      "metadata": {
        "id": "bH46GTLLryn8"
      },
      "outputs": [],
      "source": [
        "# step 2:\n",
        "\n",
        "'''\n",
        ". For Q1, Q2, Q3, we get the data by scraping the Repo\n",
        ". We use the Narrators_data.xlsx dataset for answering the questions\n",
        "\n",
        "Q1.) Visualise what is the gender of the narrators?\n",
        "Q2.) What is the Generation of the narrators?\n",
        "Q3.) What is the location of the narrators?\n",
        "Q3.) What is the sentiment of the narrators answers?\n",
        "\n",
        "'''"
      ]
    },
    {
      "cell_type": "code",
      "source": [
        ""
      ],
      "metadata": {
        "id": "atxSWPuNt7_K"
      },
      "execution_count": null,
      "outputs": []
    },
    {
      "cell_type": "markdown",
      "metadata": {
        "id": "nvouMmTSryn_"
      },
      "source": [
        ". We can understand from the above Barcharts that most of the narrators are born in the years 1924, 1925, 1926 years."
      ]
    },
    {
      "cell_type": "markdown",
      "metadata": {
        "id": "opVAlC1wryn_"
      },
      "source": [
        ". There are more Nisei generation people followed by White and Sensei people."
      ]
    },
    {
      "cell_type": "markdown",
      "metadata": {
        "id": "gkM4i8tvryoA"
      },
      "source": [
        ". And most of the narrators are from California, Washington, Oregon."
      ]
    },
    {
      "cell_type": "markdown",
      "metadata": {
        "id": "STZPV2rSryoC"
      },
      "source": [
        ". We try to understand the sentiments of the people."
      ]
    },
    {
      "cell_type": "markdown",
      "metadata": {
        "id": "AWHIqp0LryoD"
      },
      "source": [
        ". We found that most of the people are negative to the interviewers questions."
      ]
    },
    {
      "cell_type": "markdown",
      "metadata": {
        "id": "r-MvP11bryoD"
      },
      "source": [
        "\n",
        "\n",
        "\n"
      ]
    },
    {
      "cell_type": "markdown",
      "metadata": {
        "id": "U7JgUVyzryoE"
      },
      "source": [
        "Question 3 (15 points). In this question, you are required to create visualization for time series data. \n",
        "\n",
        "We have collected all the articles from AMIA in the last 30 years. The dataset is avaliable on GitHub: https://raw.githubusercontent.com/unt-iialab/info5502-spring2022/main/datasets/lab_assignment_05_amia_cleaned.csv. \n",
        "\n",
        "Please use the tool Yake: https://github.com/LIAAD/yake to extract the top N (you can set different N value to get the best visualization results) keywords from the article titles (all the articles), then visualize how the keywords changed over years in one figure. (Split the data by every five years)"
      ]
    },
    {
      "cell_type": "code",
      "source": [
        "!pip install yake"
      ],
      "metadata": {
        "colab": {
          "base_uri": "https://localhost:8080/"
        },
        "id": "VFhQIWTpuXg2",
        "outputId": "64f18a6e-a9db-432a-fc1e-97ed57ea7018"
      },
      "execution_count": 13,
      "outputs": [
        {
          "output_type": "stream",
          "name": "stdout",
          "text": [
            "Collecting yake\n",
            "  Downloading yake-0.4.8-py2.py3-none-any.whl (60 kB)\n",
            "\u001b[K     |████████████████████████████████| 60 kB 1.9 MB/s \n",
            "\u001b[?25hRequirement already satisfied: numpy in /usr/local/lib/python3.7/dist-packages (from yake) (1.21.5)\n",
            "Requirement already satisfied: networkx in /usr/local/lib/python3.7/dist-packages (from yake) (2.6.3)\n",
            "Requirement already satisfied: tabulate in /usr/local/lib/python3.7/dist-packages (from yake) (0.8.9)\n",
            "Requirement already satisfied: click>=6.0 in /usr/local/lib/python3.7/dist-packages (from yake) (7.1.2)\n",
            "Collecting segtok\n",
            "  Downloading segtok-1.5.11-py3-none-any.whl (24 kB)\n",
            "Collecting jellyfish\n",
            "  Downloading jellyfish-0.9.0.tar.gz (132 kB)\n",
            "\u001b[K     |████████████████████████████████| 132 kB 6.6 MB/s \n",
            "\u001b[?25hRequirement already satisfied: regex in /usr/local/lib/python3.7/dist-packages (from segtok->yake) (2019.12.20)\n",
            "Building wheels for collected packages: jellyfish\n",
            "  Building wheel for jellyfish (setup.py) ... \u001b[?25l\u001b[?25hdone\n",
            "  Created wheel for jellyfish: filename=jellyfish-0.9.0-cp37-cp37m-linux_x86_64.whl size=73970 sha256=5a7970158123d80d2aead90075451cd66ea837964830a65bd9c55c2f77065dbd\n",
            "  Stored in directory: /root/.cache/pip/wheels/fe/99/4e/646ce766df0d070b0ef04db27aa11543e2767fda3075aec31b\n",
            "Successfully built jellyfish\n",
            "Installing collected packages: segtok, jellyfish, yake\n",
            "Successfully installed jellyfish-0.9.0 segtok-1.5.11 yake-0.4.8\n"
          ]
        }
      ]
    },
    {
      "cell_type": "code",
      "execution_count": 14,
      "metadata": {
        "colab": {
          "base_uri": "https://localhost:8080/",
          "height": 467
        },
        "id": "kn3UWeYnryoE",
        "outputId": "e4e1da60-a5b9-43a1-b491-fec9e7702d37"
      },
      "outputs": [
        {
          "output_type": "execute_result",
          "data": {
            "text/plain": [
              "       pmc_id                                              title  \\\n",
              "0     8075400  Association of White Matter Hyperintensity Pro...   \n",
              "1     8075401  Mild Behavioral Impairment and Subjective Cogn...   \n",
              "2     8075402  Safety Monitoring of Gene Therapy for Spinal M...   \n",
              "3     8075403  Assessing the Progression of Alzheimer’s Disea...   \n",
              "4     8075404  Investigating the Spatial Associations Between...   \n",
              "...       ...                                                ...   \n",
              "4965  2581174  Computer Use in Office and Ambulatory Practice...   \n",
              "4966  2581175  The Role of the Programmable Calculator in the...   \n",
              "4967  2581176     Month-at-a-Glance Ambulatory Scheduling System   \n",
              "4968  2581177  The Evolution of Ambulatory Medical Record Sys...   \n",
              "4969  2581178           Research Accounts Payable Control System   \n",
              "\n",
              "                                authors  \\\n",
              "0                         Kentaro Hirao   \n",
              "1                       Fumio Yamashita   \n",
              "2                         Akito Tsugawa   \n",
              "3                           Rieko Haime   \n",
              "4                        Raita Fukasawa   \n",
              "...                                 ...   \n",
              "4965                 Truman G. Schnabel   \n",
              "4966              P. WinnerandJ. Moller   \n",
              "4967                   George F. Timson   \n",
              "4968  Ingeborg M. KuhnandGio Wiederhold   \n",
              "4969                 Michael J. Distaso   \n",
              "\n",
              "                                    authors_information  year  \\\n",
              "0     aDepartment of Geriatric Medicine, Tokyo Medic...  2021   \n",
              "1     bDepartment of Ultrahigh Field MRI, Institute ...  2021   \n",
              "2     aDepartment of Psychiatry, University of Calga...  2021   \n",
              "3     bDepartment of Clinical Neurosciences, Univers...  2021   \n",
              "4     cDepartment of Community Health Sciences, Univ...  2021   \n",
              "...                                                 ...   ...   \n",
              "4965                                 Truman G. Schnabel  1981   \n",
              "4966                              P. WinnerandJ. Moller  1981   \n",
              "4967                                   George F. Timson  1981   \n",
              "4968                  Ingeborg M. KuhnandGio Wiederhold  1981   \n",
              "4969                                 Michael J. Distaso  1981   \n",
              "\n",
              "                                               abstract  \n",
              "0     white matter hyperintensities wmh mri reported...  \n",
              "1     mild behavioral impairment mbi subjective cogn...  \n",
              "2     recently gene therapy onasemnogene abeparvovec...  \n",
              "3     exists considerable variation disease progress...  \n",
              "4     proposed amyloidβ aβ play causal role alzheime...  \n",
              "...                                                 ...  \n",
              "4965  general approach establishment programmable ca...  \n",
              "4966  paper overview development automated ambulator...  \n",
              "4967  therapy relation disease relys adjustment diet...  \n",
              "4968  paper computer generated case summary us descr...  \n",
              "4969  paper concern application relational database ...  \n",
              "\n",
              "[192 rows x 6 columns]"
            ],
            "text/html": [
              "\n",
              "  <div id=\"df-4223bd89-bb2e-4982-8460-9102a7446b9f\">\n",
              "    <div class=\"colab-df-container\">\n",
              "      <div>\n",
              "<style scoped>\n",
              "    .dataframe tbody tr th:only-of-type {\n",
              "        vertical-align: middle;\n",
              "    }\n",
              "\n",
              "    .dataframe tbody tr th {\n",
              "        vertical-align: top;\n",
              "    }\n",
              "\n",
              "    .dataframe thead th {\n",
              "        text-align: right;\n",
              "    }\n",
              "</style>\n",
              "<table border=\"1\" class=\"dataframe\">\n",
              "  <thead>\n",
              "    <tr style=\"text-align: right;\">\n",
              "      <th></th>\n",
              "      <th>pmc_id</th>\n",
              "      <th>title</th>\n",
              "      <th>authors</th>\n",
              "      <th>authors_information</th>\n",
              "      <th>year</th>\n",
              "      <th>abstract</th>\n",
              "    </tr>\n",
              "  </thead>\n",
              "  <tbody>\n",
              "    <tr>\n",
              "      <th>0</th>\n",
              "      <td>8075400</td>\n",
              "      <td>Association of White Matter Hyperintensity Pro...</td>\n",
              "      <td>Kentaro Hirao</td>\n",
              "      <td>aDepartment of Geriatric Medicine, Tokyo Medic...</td>\n",
              "      <td>2021</td>\n",
              "      <td>white matter hyperintensities wmh mri reported...</td>\n",
              "    </tr>\n",
              "    <tr>\n",
              "      <th>1</th>\n",
              "      <td>8075401</td>\n",
              "      <td>Mild Behavioral Impairment and Subjective Cogn...</td>\n",
              "      <td>Fumio Yamashita</td>\n",
              "      <td>bDepartment of Ultrahigh Field MRI, Institute ...</td>\n",
              "      <td>2021</td>\n",
              "      <td>mild behavioral impairment mbi subjective cogn...</td>\n",
              "    </tr>\n",
              "    <tr>\n",
              "      <th>2</th>\n",
              "      <td>8075402</td>\n",
              "      <td>Safety Monitoring of Gene Therapy for Spinal M...</td>\n",
              "      <td>Akito Tsugawa</td>\n",
              "      <td>aDepartment of Psychiatry, University of Calga...</td>\n",
              "      <td>2021</td>\n",
              "      <td>recently gene therapy onasemnogene abeparvovec...</td>\n",
              "    </tr>\n",
              "    <tr>\n",
              "      <th>3</th>\n",
              "      <td>8075403</td>\n",
              "      <td>Assessing the Progression of Alzheimer’s Disea...</td>\n",
              "      <td>Rieko Haime</td>\n",
              "      <td>bDepartment of Clinical Neurosciences, Univers...</td>\n",
              "      <td>2021</td>\n",
              "      <td>exists considerable variation disease progress...</td>\n",
              "    </tr>\n",
              "    <tr>\n",
              "      <th>4</th>\n",
              "      <td>8075404</td>\n",
              "      <td>Investigating the Spatial Associations Between...</td>\n",
              "      <td>Raita Fukasawa</td>\n",
              "      <td>cDepartment of Community Health Sciences, Univ...</td>\n",
              "      <td>2021</td>\n",
              "      <td>proposed amyloidβ aβ play causal role alzheime...</td>\n",
              "    </tr>\n",
              "    <tr>\n",
              "      <th>...</th>\n",
              "      <td>...</td>\n",
              "      <td>...</td>\n",
              "      <td>...</td>\n",
              "      <td>...</td>\n",
              "      <td>...</td>\n",
              "      <td>...</td>\n",
              "    </tr>\n",
              "    <tr>\n",
              "      <th>4965</th>\n",
              "      <td>2581174</td>\n",
              "      <td>Computer Use in Office and Ambulatory Practice...</td>\n",
              "      <td>Truman G. Schnabel</td>\n",
              "      <td>Truman G. Schnabel</td>\n",
              "      <td>1981</td>\n",
              "      <td>general approach establishment programmable ca...</td>\n",
              "    </tr>\n",
              "    <tr>\n",
              "      <th>4966</th>\n",
              "      <td>2581175</td>\n",
              "      <td>The Role of the Programmable Calculator in the...</td>\n",
              "      <td>P. WinnerandJ. Moller</td>\n",
              "      <td>P. WinnerandJ. Moller</td>\n",
              "      <td>1981</td>\n",
              "      <td>paper overview development automated ambulator...</td>\n",
              "    </tr>\n",
              "    <tr>\n",
              "      <th>4967</th>\n",
              "      <td>2581176</td>\n",
              "      <td>Month-at-a-Glance Ambulatory Scheduling System</td>\n",
              "      <td>George F. Timson</td>\n",
              "      <td>George F. Timson</td>\n",
              "      <td>1981</td>\n",
              "      <td>therapy relation disease relys adjustment diet...</td>\n",
              "    </tr>\n",
              "    <tr>\n",
              "      <th>4968</th>\n",
              "      <td>2581177</td>\n",
              "      <td>The Evolution of Ambulatory Medical Record Sys...</td>\n",
              "      <td>Ingeborg M. KuhnandGio Wiederhold</td>\n",
              "      <td>Ingeborg M. KuhnandGio Wiederhold</td>\n",
              "      <td>1981</td>\n",
              "      <td>paper computer generated case summary us descr...</td>\n",
              "    </tr>\n",
              "    <tr>\n",
              "      <th>4969</th>\n",
              "      <td>2581178</td>\n",
              "      <td>Research Accounts Payable Control System</td>\n",
              "      <td>Michael J. Distaso</td>\n",
              "      <td>Michael J. Distaso</td>\n",
              "      <td>1981</td>\n",
              "      <td>paper concern application relational database ...</td>\n",
              "    </tr>\n",
              "  </tbody>\n",
              "</table>\n",
              "<p>192 rows × 6 columns</p>\n",
              "</div>\n",
              "      <button class=\"colab-df-convert\" onclick=\"convertToInteractive('df-4223bd89-bb2e-4982-8460-9102a7446b9f')\"\n",
              "              title=\"Convert this dataframe to an interactive table.\"\n",
              "              style=\"display:none;\">\n",
              "        \n",
              "  <svg xmlns=\"http://www.w3.org/2000/svg\" height=\"24px\"viewBox=\"0 0 24 24\"\n",
              "       width=\"24px\">\n",
              "    <path d=\"M0 0h24v24H0V0z\" fill=\"none\"/>\n",
              "    <path d=\"M18.56 5.44l.94 2.06.94-2.06 2.06-.94-2.06-.94-.94-2.06-.94 2.06-2.06.94zm-11 1L8.5 8.5l.94-2.06 2.06-.94-2.06-.94L8.5 2.5l-.94 2.06-2.06.94zm10 10l.94 2.06.94-2.06 2.06-.94-2.06-.94-.94-2.06-.94 2.06-2.06.94z\"/><path d=\"M17.41 7.96l-1.37-1.37c-.4-.4-.92-.59-1.43-.59-.52 0-1.04.2-1.43.59L10.3 9.45l-7.72 7.72c-.78.78-.78 2.05 0 2.83L4 21.41c.39.39.9.59 1.41.59.51 0 1.02-.2 1.41-.59l7.78-7.78 2.81-2.81c.8-.78.8-2.07 0-2.86zM5.41 20L4 18.59l7.72-7.72 1.47 1.35L5.41 20z\"/>\n",
              "  </svg>\n",
              "      </button>\n",
              "      \n",
              "  <style>\n",
              "    .colab-df-container {\n",
              "      display:flex;\n",
              "      flex-wrap:wrap;\n",
              "      gap: 12px;\n",
              "    }\n",
              "\n",
              "    .colab-df-convert {\n",
              "      background-color: #E8F0FE;\n",
              "      border: none;\n",
              "      border-radius: 50%;\n",
              "      cursor: pointer;\n",
              "      display: none;\n",
              "      fill: #1967D2;\n",
              "      height: 32px;\n",
              "      padding: 0 0 0 0;\n",
              "      width: 32px;\n",
              "    }\n",
              "\n",
              "    .colab-df-convert:hover {\n",
              "      background-color: #E2EBFA;\n",
              "      box-shadow: 0px 1px 2px rgba(60, 64, 67, 0.3), 0px 1px 3px 1px rgba(60, 64, 67, 0.15);\n",
              "      fill: #174EA6;\n",
              "    }\n",
              "\n",
              "    [theme=dark] .colab-df-convert {\n",
              "      background-color: #3B4455;\n",
              "      fill: #D2E3FC;\n",
              "    }\n",
              "\n",
              "    [theme=dark] .colab-df-convert:hover {\n",
              "      background-color: #434B5C;\n",
              "      box-shadow: 0px 1px 3px 1px rgba(0, 0, 0, 0.15);\n",
              "      filter: drop-shadow(0px 1px 2px rgba(0, 0, 0, 0.3));\n",
              "      fill: #FFFFFF;\n",
              "    }\n",
              "  </style>\n",
              "\n",
              "      <script>\n",
              "        const buttonEl =\n",
              "          document.querySelector('#df-4223bd89-bb2e-4982-8460-9102a7446b9f button.colab-df-convert');\n",
              "        buttonEl.style.display =\n",
              "          google.colab.kernel.accessAllowed ? 'block' : 'none';\n",
              "\n",
              "        async function convertToInteractive(key) {\n",
              "          const element = document.querySelector('#df-4223bd89-bb2e-4982-8460-9102a7446b9f');\n",
              "          const dataTable =\n",
              "            await google.colab.kernel.invokeFunction('convertToInteractive',\n",
              "                                                     [key], {});\n",
              "          if (!dataTable) return;\n",
              "\n",
              "          const docLinkHtml = 'Like what you see? Visit the ' +\n",
              "            '<a target=\"_blank\" href=https://colab.research.google.com/notebooks/data_table.ipynb>data table notebook</a>'\n",
              "            + ' to learn more about interactive tables.';\n",
              "          element.innerHTML = '';\n",
              "          dataTable['output_type'] = 'display_data';\n",
              "          await google.colab.output.renderOutput(dataTable, element);\n",
              "          const docLink = document.createElement('div');\n",
              "          docLink.innerHTML = docLinkHtml;\n",
              "          element.appendChild(docLink);\n",
              "        }\n",
              "      </script>\n",
              "    </div>\n",
              "  </div>\n",
              "  "
            ]
          },
          "metadata": {},
          "execution_count": 14
        }
      ],
      "source": [
        "# Your python code here:\n",
        "\n",
        "import pandas as pd\n",
        "import matplotlib.pyplot as plt\n",
        "import yake\n",
        "df = pd.read_csv(\"https://raw.githubusercontent.com/unt-iialab/info5502-spring2022/main/datasets/lab_assignment_05_amia_cleaned.csv\", sep=\",\")\n",
        "#df['year'] = df['year'].astype('int64')\n",
        "#.value_counts()\n",
        "\n",
        "df = df[df['year'].isna()!=True]\n",
        "#df[df['year'].isna()==True]#.value_counts()\n",
        "df['year'] = df['year'].astype('int64')\n",
        "df.groupby(df['year']).head()"
      ]
    },
    {
      "cell_type": "code",
      "execution_count": 15,
      "metadata": {
        "colab": {
          "base_uri": "https://localhost:8080/"
        },
        "id": "RSKxcmDYryoF",
        "outputId": "29e845c7-05a2-4cb5-f132-80bac10640fa"
      },
      "outputs": [
        {
          "output_type": "stream",
          "name": "stdout",
          "text": [
            "2021\n",
            "('Matter Hyperintensity Progression', 0.00013339348320859514)\n",
            "('Single Centre Experience', 0.00015642157558853453)\n",
            "('Centre Experience Assessing', 0.00015642157558853453)\n",
            "('Spinal Muscular Atrophy', 0.00018343650539378616)\n",
            "('European Countries Investigating', 0.00018343650539378616)\n",
            "('Social Leisure Activities', 0.00018343650539378616)\n",
            "('Leisure Activities Protective', 0.00018343650539378616)\n",
            "('Grey Matter Volume', 0.0002537897653699346)\n",
            "('White Matter Hyperintensity', 0.00027120469699506175)\n",
            "('Disease Current View', 0.00031366882345359656)\n",
            "------------------\n",
            "2020\n",
            "('Electronic Health Record', 0.00022547607734765726)\n",
            "('Densely Connected CNN', 0.0003234067444554375)\n",
            "('Hippocampus MRI Data', 0.0004083014470416426)\n",
            "('Identify Hospitalized Patients', 0.00042657502712225404)\n",
            "('Electronic Clinical Quality', 0.00044197789114759964)\n",
            "('Connected CNN Model', 0.00048283473131257226)\n",
            "('Clinical Quality Measure', 0.0005152518368886186)\n",
            "('Factors Affecting Stroke', 0.0006322964891184532)\n",
            "('deep learning Exploring', 0.0006388329243117043)\n",
            "('Deep Learning Health', 0.0006607537909498904)\n",
            "------------------\n",
            "2018\n",
            "('Electronic Health Record', 4.6324100014809876e-05)\n",
            "('Health Record Data', 0.00015349165693860474)\n",
            "('Clinical Decision Support', 0.0002037212929568448)\n",
            "('Feedback Intervention Theory', 0.00023105161943825071)\n",
            "('Engagement Consultation Service', 0.00023105161943825071)\n",
            "('Electronic Medical Record', 0.0002905483591147805)\n",
            "('Philippines Biophysical Analyses', 0.0002945370912531013)\n",
            "('Future Direction Defining', 0.0002945370912531013)\n",
            "('Extract Substance Abuse', 0.0002945370912531013)\n",
            "('Disordered Eating Adopt', 0.0002945370912531013)\n",
            "------------------\n",
            "2015\n",
            "('Arabidopsis DIFFERENTIAL EFFECTS', 0.00041690262896389407)\n",
            "('Clinical Decision Support', 0.0007840732574967832)\n",
            "('assembly Global Linking', 0.0007995193375016164)\n",
            "('Electronic Health Record', 0.0008516723171537783)\n",
            "('Electronic Clinical Quality', 0.0018101424755120072)\n",
            "('Italian Patients Effects', 0.0019033942867067372)\n",
            "('Electronic Medical Record', 0.001907526974134154)\n",
            "('Health Questions Patient', 0.0019362714797293902)\n",
            "('Laboratory Evaluation Effect', 0.00226926423820049)\n",
            "('Clinical', 0.002284144072666127)\n",
            "------------------\n",
            "2019\n",
            "('Electronic Health Records', 0.00029651252878524245)\n",
            "('Clinical Decision Support', 0.0003827400207656758)\n",
            "('Clinical Data Research', 0.00045619220710452354)\n",
            "('Large Clinical Data', 0.0010522700915578465)\n",
            "('Data Research Network', 0.0010580968070820816)\n",
            "('Electronic Health', 0.0012007701027812445)\n",
            "('Distributed Health Data', 0.0012184728040130163)\n",
            "('Electronic Clinical Decision', 0.001309002544082113)\n",
            "('Catastrophic Antiphospholipid Syndrome', 0.0013981109967431038)\n",
            "('Antiphospholipid Syndrome Letter', 0.0013981109967431038)\n",
            "------------------\n",
            "2014\n",
            "('Electronic Health Record', 4.562292192566021e-05)\n",
            "('Health Information Exchange', 5.420782457180507e-05)\n",
            "('Concept Annotation Problem', 8.786644287967464e-05)\n",
            "('Drug Labels Adapting', 9.17871650651575e-05)\n",
            "('Public Data Sets', 9.957486011615172e-05)\n",
            "('Data Sharing Preferences', 9.996002920111135e-05)\n",
            "('Clinical Data Repository', 0.00010374780593143271)\n",
            "('Health Record Data', 0.00011064305609800878)\n",
            "('FDA Drug Labels', 0.000115092353363865)\n",
            "('Department Staff Data', 0.00012485689726031806)\n",
            "------------------\n",
            "2016\n",
            "('Electronic Health Record', 2.2689299311951884e-05)\n",
            "('United States Modeling', 0.00010414447557390025)\n",
            "('Health Record Data', 0.00010517083557747467)\n",
            "('Clinical Study Data', 0.00011517188863694152)\n",
            "('Observational Clinical Data', 0.00011610479029870628)\n",
            "('State Parental Perceptions', 0.00012199276446352636)\n",
            "('York State Parental', 0.00012391283267629763)\n",
            "('Veteran Health Information', 0.0001311330582183004)\n",
            "('Clinical Data Elements', 0.00013597239239691657)\n",
            "('Data Elements Data', 0.00014411639430005706)\n",
            "------------------\n",
            "2002\n",
            "('Small Nuclear RNA', 4.533716702448886e-05)\n",
            "('Small Nucleolar RNAs', 4.8499234434415996e-05)\n",
            "('Mouse Liver Protein', 4.850940766215998e-05)\n",
            "('Small RNAs RNA', 5.038067915108716e-05)\n",
            "('Trypanosomatids Small Nucleolar', 5.0459623685532784e-05)\n",
            "('Small RNAs Reduces', 5.2417247174785525e-05)\n",
            "('Finger Proteins Involved', 5.2637406420694365e-05)\n",
            "('Analysis Genetic Analysis', 6.201214536816655e-05)\n",
            "('Nuclear RNA Transcription', 6.226933344078529e-05)\n",
            "('Lipoprotein Receptor Expression', 6.469005276327185e-05)\n",
            "------------------\n",
            "2017\n",
            "('Electronic Health Records', 4.693710490219337e-05)\n",
            "('Traumatic Brain Injury', 0.00012854830297741464)\n",
            "('Spinal Cord Injury', 0.00015103458894308812)\n",
            "('Health Record Data', 0.00016685226707243488)\n",
            "('Measuring Workload Demand', 0.00019315619337791166)\n",
            "('Body Mass Index', 0.00019315619337791166)\n",
            "('Mining Electronic Health', 0.00020041080247386875)\n",
            "('Case Demand Index', 0.00021235177711684857)\n",
            "('Clinical Case Demand', 0.00021676177004103654)\n",
            "('Health Information Exchange', 0.00022528190088878593)\n",
            "------------------\n",
            "2012\n",
            "('Electronic Health Record', 8.817363356549577e-05)\n",
            "('Clinical Decision Support', 0.00016119668153253639)\n",
            "('Ectomesenchymal Stem Cells', 0.00023347259904719488)\n",
            "('Invading Blood Vessels', 0.00028405076158728206)\n",
            "('Cytidine Deaminase DNA', 0.00028405076158728206)\n",
            "('Deaminase DNA Deamination', 0.00028405076158728206)\n",
            "('Health Information Exchange', 0.0003791561040241397)\n",
            "('Health Record Data', 0.0005659250549793638)\n",
            "('Records Patient clinical', 0.0006160127897309586)\n",
            "('Electronic Health', 0.0007155494553058434)\n",
            "------------------\n",
            "2013\n",
            "('Electronic Health Records', 8.039173474025418e-05)\n",
            "('Sedentary Video Games', 0.0001602895927852689)\n",
            "('Health Information Exchange', 0.00018519702932145584)\n",
            "('City Clinical Practices', 0.00026148782418793147)\n",
            "('York City Clinical', 0.0003269866965643046)\n",
            "('Medical Home Practices', 0.00033335443471923495)\n",
            "('Electronic Medical Records', 0.0003852792523069921)\n",
            "('Activity-Promoting Video Game', 0.00047325308212205235)\n",
            "('Video Game compared', 0.00047325308212205235)\n",
            "('Health Care Users', 0.0005416854277231896)\n",
            "------------------\n",
            "2011\n",
            "('Electronic Health Records', 0.0001234690584793154)\n",
            "('Health Information Exchange', 0.00018040444565526112)\n",
            "('Health Information Technology', 0.00023022224291144896)\n",
            "('Word Sequence Variation', 0.0002446245327589375)\n",
            "('Mild Traumatic Brain', 0.0002446245327589375)\n",
            "('Traumatic Brain Injury', 0.0002446245327589375)\n",
            "('Random Fields Understanding', 0.0002446245327589375)\n",
            "('Health Disclosure Laws', 0.0002677726140423243)\n",
            "('Electronic Medical Record', 0.0003004411233038199)\n",
            "('Corpus Derived Clinical', 0.0003021973770968719)\n",
            "------------------\n",
            "2007\n",
            "('Clinical Decision Support', 6.901630054198732e-05)\n",
            "('Health Information Networks', 0.00014108693175946525)\n",
            "('Semantic Information Evaluation', 0.00021746640583485843)\n",
            "('Clinical Information System', 0.0002500090452666664)\n",
            "('Electronic Health Record', 0.0002889541892983093)\n",
            "('UMLS Semantic Network', 0.0003267575182523292)\n",
            "('Information Networks Assessing', 0.0003604666758281982)\n",
            "('Personal Health Records', 0.00044343967034796795)\n",
            "('decision support system', 0.0004895803348780193)\n",
            "('Health Information Exchanges', 0.0005349204667667722)\n",
            "------------------\n",
            "2010\n",
            "('Electronic Health Record', 1.9589701328866477e-05)\n",
            "('Clinical Decision Support', 4.074011859880352e-05)\n",
            "('Electronic Medical Record', 4.440277454346827e-05)\n",
            "('Natural Language Processing', 4.6436927116254096e-05)\n",
            "('Health Record Platform', 4.723153266946076e-05)\n",
            "('Integrating Direct Electronic', 5.211705931643818e-05)\n",
            "('Electronic Form Design', 6.418746272855622e-05)\n",
            "('Efficient Bayesian Method', 6.695248103887313e-05)\n",
            "('Direct Electronic Collection', 7.76722360659018e-05)\n",
            "('Health Information Technology', 8.24431789192882e-05)\n",
            "------------------\n",
            "2008\n",
            "('Electronic Medical Record', 9.814978853661262e-05)\n",
            "('Clinical Decision Support', 0.00010841516781293119)\n",
            "('health care system', 0.00012560900319540544)\n",
            "('Adding Medication Histories', 0.00016642588594728552)\n",
            "('Clinical Information Re-engineering', 0.0001816382460351286)\n",
            "('Electronic Health Records', 0.00018996293199198566)\n",
            "('Information Re-engineering Opportunities', 0.00019454929478624706)\n",
            "('Regenstrief Medication Hub', 0.0002150639727461214)\n",
            "('Medication Reconciliation Automatically', 0.0002150639727461214)\n",
            "('Hoc Clinical Questions', 0.00023127804165197027)\n",
            "------------------\n",
            "2009\n",
            "('Clinical Information System', 8.663478018256873e-05)\n",
            "('Electronic Health Record', 8.795715462332605e-05)\n",
            "('Clinical Decision Support', 9.64073914063495e-05)\n",
            "('Electronic Medical Records', 0.00010117720212136771)\n",
            "('Peptide Subsidized Contraception', 0.0001721082999490163)\n",
            "('Hydrophilic Peptide Subsidized', 0.00017381389129345585)\n",
            "('White Hat Bias', 0.0002192910034444831)\n",
            "('Synthetic Polymer Nanoparticles', 0.00022146568776023153)\n",
            "('Health Record System', 0.00022418865630705558)\n",
            "('Electronic Health Information', 0.0002648448123453865)\n",
            "------------------\n",
            "2004\n",
            "('Direct IADL Measure', 0.00018550919338160987)\n",
            "('IADL Measure Detect', 0.00018550919338160987)\n",
            "('Measure Detect Deficits', 0.00018550919338160987)\n",
            "('Persons with MCI', 0.0027366367535859625)\n",
            "('Direct IADL', 0.003242916817013426)\n",
            "('IADL Measure', 0.003242916817013426)\n",
            "('Measure Detect', 0.003242916817013426)\n",
            "('Detect Deficits', 0.003242916817013426)\n",
            "('Deficits in Persons', 0.003242916817013426)\n",
            "('Scleroderma Editors’ Comments', 0.0048160834167583705)\n",
            "------------------\n",
            "2006\n",
            "('Clinical Decision Support', 0.00022142285196463245)\n",
            "('Electronic Health Record', 0.00023344692117910072)\n",
            "('Electronic Medical Record', 0.00023349251964431428)\n",
            "('Health Information Technology', 0.00049075046485614)\n",
            "('Clinical Information Systems', 0.0005145436136128052)\n",
            "('Health Record System', 0.0005819583311432534)\n",
            "('medical record system', 0.0005820718888124698)\n",
            "('Health Record Data', 0.0006615173149524474)\n",
            "('Medical Record Data', 0.0006616464844181641)\n",
            "('Health Information Management', 0.0006645949120199033)\n",
            "------------------\n",
            "2005\n",
            "('Cape Verde kite', 0.00025011140746276786)\n",
            "('Prioritizing species conservation', 0.00039261605559303103)\n",
            "('Verde kite exist', 0.00039261605559303103)\n",
            "('bacterial microcosms Reputation', 0.00039325614922613316)\n",
            "('population dynamics Niches', 0.00040573608984469556)\n",
            "('paper wasp Genomic', 0.0004611085937925056)\n",
            "('wasp Genomic compatibility', 0.0004611085937925056)\n",
            "('Genomic compatibility occurs', 0.0004611085937925056)\n",
            "('outcrossing plant Aposematism', 0.0004611085937925056)\n",
            "('butterfly larva Nesting', 0.0004611085937925056)\n",
            "------------------\n",
            "2003\n",
            "('Physician Order Entry', 0.00011374216803451407)\n",
            "('electronic medical record', 0.00013087544518187668)\n",
            "('Decision support systems', 0.00014483392973911675)\n",
            "('Order Entry System', 0.00014692050681937774)\n",
            "('Clinical Decision Support', 0.00018610689276604984)\n",
            "('Computerized Physician Order', 0.00021311126228233782)\n",
            "('Clinical Information System', 0.00021626581264406764)\n",
            "('Care Support System', 0.00046094739507036283)\n",
            "('Record System Information', 0.0004894977642133144)\n",
            "('Medical Record Systems', 0.000497854575409382)\n",
            "------------------\n",
            "2001\n",
            "('Fumaric acid production', 0.005061745688945959)\n",
            "('Accelerated Sodium Excretion', 0.006165537626766891)\n",
            "('Chronic Obstructive Pulmonary', 0.006182256063224477)\n",
            "('Rats Exhaled Breath', 0.006241849972989252)\n",
            "('Medical Record System', 0.0063098250907863635)\n",
            "('Docosahexaenoic Acid Ingestion', 0.0063733242320640655)\n",
            "('Arthritis Fumaric acid', 0.0063733242320640655)\n",
            "('ODS Rats Effect', 0.006610770265997074)\n",
            "('Chronic Kidney Disease', 0.007718115976373256)\n",
            "('High Sodium Intake', 0.007741559422189964)\n",
            "------------------\n",
            "2000\n",
            "('European Commission DGXIII', 0.000272252694111577)\n",
            "('European Commission', 0.004316120368156304)\n",
            "('Commission DGXIII', 0.004316120368156304)\n",
            "('international integrated telemedicine', 0.01604861338565662)\n",
            "('Regional and international', 0.03068998858225639)\n",
            "('organ transplant', 0.03068998858225639)\n",
            "('Primary Care Model-based', 0.03409088994785989)\n",
            "('international integrated', 0.03483301078030752)\n",
            "('integrated telemedicine network', 0.038466822054002626)\n",
            "('Primary Care Research', 0.04273129492441601)\n",
            "------------------\n",
            "1998\n",
            "('Efficiently Maintain', 0.0044853802797344584)\n",
            "('Maintain the Integrity', 0.0044853802797344584)\n",
            "('Knowledge Engineer Tool', 0.006451889478949837)\n",
            "('Electronic Medical Record', 0.008057086329034568)\n",
            "('stem-cell post-transplant long-term', 0.010080144942528879)\n",
            "('post-transplant long-term follow-up', 0.010080144942528879)\n",
            "('system', 0.014131705436553545)\n",
            "('computerized knowledge-support system', 0.014304352015067844)\n",
            "('Knowledge Engineer', 0.016035661213321846)\n",
            "('Knowledge Base', 0.016035661213321846)\n",
            "------------------\n",
            "1996\n",
            "('diabetic patient management', 0.021704381788440478)\n",
            "('intelligent data analysis', 0.0278850173298573)\n",
            "('World Wide Web', 0.036001085141224354)\n",
            "('information', 0.04184920162439905)\n",
            "('analysis in diabetic', 0.04326602853224161)\n",
            "('Web', 0.04747686048667469)\n",
            "('Natural Language Processing', 0.05610158026092168)\n",
            "('care', 0.06226796566204565)\n",
            "('Wide Web', 0.06856759791205307)\n",
            "('decision support', 0.07255670658651822)\n",
            "------------------\n",
            "1997\n",
            "('merging multiple legacy', 0.008298133545729636)\n",
            "('multiple legacy databases', 0.008298133545729636)\n",
            "('Month Experience Nurses', 0.013947077011110502)\n",
            "('World Wide Web', 0.025948826170235653)\n",
            "('Electronic Mail Consultations', 0.03010246587004842)\n",
            "('merging multiple', 0.0358316211507357)\n",
            "('legacy databases', 0.0358316211507357)\n",
            "('clinical data repository', 0.03608606278970566)\n",
            "('multiple legacy', 0.04880013568230144)\n",
            "('enterprise-wide clinical data', 0.050351521851266234)\n",
            "------------------\n",
            "1995\n",
            "('Support for information', 0.03491537602823697)\n",
            "('information management', 0.05695550697646169)\n",
            "('management in critical', 0.05695550697646169)\n",
            "('approach to identify', 0.05695550697646169)\n",
            "('critical care', 0.11635984525237528)\n",
            "('Support', 0.14533572323085503)\n",
            "('patient care setting', 0.14624082127698823)\n",
            "('care setting', 0.2000778483630907)\n",
            "('care', 0.22450676110568685)\n",
            "('information', 0.2321344025274505)\n",
            "------------------\n",
            "1991\n",
            "('information system', 0.0037458111137096384)\n",
            "('system', 0.003935040083529282)\n",
            "('Clinical Information System', 0.0041884112240754496)\n",
            "('medical', 0.004515516479419091)\n",
            "('medical information systems', 0.005465930105430284)\n",
            "('information', 0.008098994256238385)\n",
            "('hospital information system', 0.008719671862396234)\n",
            "('Medical Language System', 0.011348611179651337)\n",
            "('medical information', 0.013754938337870934)\n",
            "('Academic Information System', 0.0152571561150475)\n",
            "------------------\n",
            "1994\n",
            "('Catabolite Repression inSaccharomyces', 0.001185739112327361)\n",
            "('Quick Medical Reference', 0.0017227563341758298)\n",
            "('Repression inSaccharomyces cerevisiae', 0.00423756798314831)\n",
            "('kidney transplantation Accuracy', 0.004403943038652273)\n",
            "('Catabolite Repression', 0.00478180952256319)\n",
            "('Reference and Iliad', 0.004914120317027075)\n",
            "('Emulating cognitive diagnostic', 0.009876919448637582)\n",
            "('Renal cortex neuronal', 0.015603465077891808)\n",
            "('cortex neuronal nitric', 0.016233312889031782)\n",
            "('neuronal nitric oxide', 0.016233312889031782)\n",
            "------------------\n",
            "1993\n",
            "('system', 0.011346611095627526)\n",
            "('patient', 0.019364715788148523)\n",
            "('information system', 0.021255008436181392)\n",
            "('expert system', 0.02567491842872248)\n",
            "('clinical information system', 0.026083180111765265)\n",
            "('medical', 0.026440035601779207)\n",
            "('consumers make informed', 0.026692097045992062)\n",
            "('care', 0.027431175779425172)\n",
            "('clinical', 0.02833772529915535)\n",
            "('patient record', 0.03277574056829587)\n",
            "------------------\n",
            "1992\n",
            "('system', 0.011694067440825557)\n",
            "('information', 0.017812114839015753)\n",
            "('medical', 0.020532055326711984)\n",
            "('clinical', 0.022772792357591016)\n",
            "('Information System', 0.03145758981565231)\n",
            "('systems', 0.03842336444842684)\n",
            "('data', 0.03972271637270634)\n",
            "('medical information systems', 0.04195614087669401)\n",
            "('patient', 0.04568369514226431)\n",
            "('Clinical Information System', 0.04758894407382146)\n",
            "------------------\n",
            "1990\n",
            "('Clinical Information System', 1.629359996625945e-05)\n",
            "('Expert System Expert', 2.1354497973512238e-05)\n",
            "('System Expert Systems', 2.723306307000991e-05)\n",
            "('Hospital Information System', 2.886343693093988e-05)\n",
            "('Medical Expert System', 3.5228938717146165e-05)\n",
            "('Outpatient Clinical Information', 4.159431286750466e-05)\n",
            "('Statistical Expert Systems', 4.1804917829311185e-05)\n",
            "('Information Management System', 5.5318042650385314e-05)\n",
            "('Decision Support Systems', 6.678287319745363e-05)\n",
            "('Integrated Expert System', 6.734153564455702e-05)\n",
            "------------------\n",
            "1989\n",
            "('Medical Information System', 2.353177774924414e-06)\n",
            "('System Medical Knowledge', 2.453764517912236e-06)\n",
            "('Medical Expert Systems', 2.459231684753073e-06)\n",
            "('Hospital Information System', 2.5812712216898866e-06)\n",
            "('Clinical Information System', 2.855212678900917e-06)\n",
            "('Medical Knowledge Base', 3.2826392470668405e-06)\n",
            "('Database Management Systems', 3.845672259822504e-06)\n",
            "('Medical Language System', 4.161451434369629e-06)\n",
            "('Support Expert System', 4.798718050519523e-06)\n",
            "('Nursing Information System', 4.850125010151629e-06)\n",
            "------------------\n",
            "1988\n",
            "('Hospital Information System', 1.0282443459746488e-06)\n",
            "('Medical Knowledge Bases', 1.3737510305175832e-06)\n",
            "('Nursing Information Systems', 1.5568799892296442e-06)\n",
            "('Hospital Computer Systems', 4.540123226084061e-06)\n",
            "('Information System Network', 4.680061996224586e-06)\n",
            "('Laboratory Information Systems', 4.918741096965269e-06)\n",
            "('Expert Systems Development', 4.925975674785609e-06)\n",
            "('Medical Language System', 4.962019909068739e-06)\n",
            "('Expert Database Systems', 5.153979562032844e-06)\n",
            "('Computerized Expert Systems', 5.198081612802558e-06)\n",
            "------------------\n",
            "1987\n",
            "('Hospital Information System', 3.2709642794536677e-06)\n",
            "('Patient Information System', 1.1525170639989235e-05)\n",
            "('Laboratory Information System', 1.3298888292508859e-05)\n",
            "('Instructional Information Systems', 1.716921265971398e-05)\n",
            "('Networked Hospital Information', 1.7746827730216897e-05)\n",
            "('Care Information System', 1.990047392425627e-05)\n",
            "('Patient Care Information', 2.035956467112545e-05)\n",
            "('Distributed Information Systems', 2.037507792163444e-05)\n",
            "('Information System Distributed', 2.037507792163444e-05)\n",
            "('Nursing Information Systems', 2.19971506275984e-05)\n",
            "------------------\n",
            "1986\n",
            "('Information Systems Medical', 3.18909381983885e-05)\n",
            "('Medical Information System', 3.189093819838851e-05)\n",
            "('Systems Medical Computers', 3.6479698432136135e-05)\n",
            "('Clinical Information System', 3.666145942175049e-05)\n",
            "('Information System Applications', 3.775208387634703e-05)\n",
            "('Hospital Information System', 4.3114519934180224e-05)\n",
            "('Computerized Medical Information', 4.4987321934508784e-05)\n",
            "('Based Systems Technology', 4.8101942117416374e-05)\n",
            "('Medical Computer Software', 4.8323012037676545e-05)\n",
            "('Knowledge Based Systems', 5.1050509304408415e-05)\n",
            "------------------\n",
            "1985\n",
            "('Hospital Information System', 1.4986637071666723e-05)\n",
            "('Computerized Information Systems', 1.9615040591370405e-05)\n",
            "('Burn Information System', 2.231784211165467e-05)\n",
            "('Clinical Information System', 4.684397799622573e-05)\n",
            "('Library Information System', 5.2634281620567596e-05)\n",
            "('Medical Expert Systems', 6.188552081831581e-05)\n",
            "('Information System', 6.598835525882121e-05)\n",
            "('Information System Patient', 6.701163642656368e-05)\n",
            "('Patient Tracking System', 0.00010517309041999223)\n",
            "('Pharmacy Information System', 0.00010958901252202581)\n",
            "------------------\n",
            "1983\n",
            "('Based Morbidity Screening', 0.00013917288589446067)\n",
            "('Installing COSTAR Diagnosis', 0.00015005687923819)\n",
            "('Interpersonal Skills Assessment', 0.00015005687923819)\n",
            "('COSTAR Diagnosis Related', 0.00015874100717724247)\n",
            "('Diagnosis Related Groups', 0.00015874100717724247)\n",
            "('Radiological Image Processing', 0.00015874100717724247)\n",
            "('Image Processing Facility', 0.00015874100717724247)\n",
            "('Computerized Position Requisition', 0.00015874100717724247)\n",
            "('Structured Admissions Interview', 0.00015874100717724247)\n",
            "('Admissions Interview Process', 0.00015874100717724247)\n",
            "------------------\n",
            "1982\n",
            "('Medical Information System', 0.0002172731405936497)\n",
            "('Centralized Medical Data', 0.0002499628934406165)\n",
            "('Medical Data Base', 0.0002932529700873721)\n",
            "('Data Bases Medical', 0.0002932529700873721)\n",
            "('Clinical Data System', 0.0003574576831758086)\n",
            "('Data Base System', 0.00037311478442561373)\n",
            "('Pocket Medical Record', 0.00038588175374550836)\n",
            "('Data Base Management', 0.0003887834412215609)\n",
            "('Computerized Clinical Data', 0.0006377410052242117)\n",
            "('Medical Data Center', 0.0006443671880872059)\n",
            "------------------\n",
            "1981\n",
            "('Clinical Consultation Systems', 3.682359257232871e-05)\n",
            "('Hospital Information Systems', 3.924690678658242e-05)\n",
            "('System Information System', 4.437837486781911e-05)\n",
            "('Data Base Management', 4.575493129389773e-05)\n",
            "('Radiology Information Systems', 5.368204568809779e-05)\n",
            "('Information System Computers', 5.9355773934283234e-05)\n",
            "('Medical Information Systems', 6.001077672856754e-05)\n",
            "('Information System Bayesian', 6.496643087628623e-05)\n",
            "('Medical Data System', 6.555929113967357e-05)\n",
            "('Health Information System', 6.929720730600678e-05)\n",
            "------------------\n"
          ]
        }
      ],
      "source": [
        "count = 1\n",
        "for year in df['year'].unique():\n",
        "    print(year)\n",
        "    #print(df[df['year']==i].shape)\n",
        "    max_ngram_size = 1\n",
        "    language = \"en\"\n",
        "    numOfKeywords = 10\n",
        "    text = \" \".join(title for title in df[df['year']==year]['title'].values)\n",
        "    custom_kw_extractor = yake.KeywordExtractor(lan=language, top=numOfKeywords, features=None)\n",
        "    keywords = custom_kw_extractor.extract_keywords(text)\n",
        "\n",
        "    for kw in keywords:\n",
        "        print(kw)\n",
        "    print(\"------------------\")\n",
        "    count += 1"
      ]
    },
    {
      "cell_type": "code",
      "execution_count": 16,
      "metadata": {
        "colab": {
          "base_uri": "https://localhost:8080/",
          "height": 35
        },
        "id": "toFmjClPryoG",
        "outputId": "91589eda-4739-4df3-ee61-fb08e94daaa0"
      },
      "outputs": [
        {
          "output_type": "execute_result",
          "data": {
            "text/plain": [
              "'Clinical Consultation Systems'"
            ],
            "application/vnd.google.colaboratory.intrinsic+json": {
              "type": "string"
            }
          },
          "metadata": {},
          "execution_count": 16
        }
      ],
      "source": [
        "keywords[0][0]"
      ]
    },
    {
      "cell_type": "code",
      "execution_count": 17,
      "metadata": {
        "colab": {
          "base_uri": "https://localhost:8080/"
        },
        "id": "yWMcG30UryoH",
        "outputId": "65806a49-0de3-40b2-f2a6-684f5663a4c1"
      },
      "outputs": [
        {
          "output_type": "stream",
          "name": "stdout",
          "text": [
            "Clinical Consultation Systems\n",
            "Hospital Information Systems\n",
            "System Information System\n",
            "Data Base Management\n",
            "Radiology Information Systems\n",
            "Information System Computers\n",
            "Medical Information Systems\n",
            "Information System Bayesian\n",
            "Medical Data System\n",
            "Health Information System\n"
          ]
        }
      ],
      "source": [
        "for k in keywords:\n",
        "    print(k[0])"
      ]
    },
    {
      "cell_type": "code",
      "execution_count": null,
      "metadata": {
        "id": "wkKXBbdDryoI"
      },
      "outputs": [],
      "source": [
        ""
      ]
    }
  ],
  "metadata": {
    "kernelspec": {
      "display_name": "Python 3 (ipykernel)",
      "language": "python",
      "name": "python3"
    },
    "language_info": {
      "codemirror_mode": {
        "name": "ipython",
        "version": 3
      },
      "file_extension": ".py",
      "mimetype": "text/x-python",
      "name": "python",
      "nbconvert_exporter": "python",
      "pygments_lexer": "ipython3",
      "version": "3.9.7"
    },
    "colab": {
      "name": "lab_assignment_05.ipynb",
      "provenance": [],
      "collapsed_sections": [],
      "include_colab_link": true
    }
  },
  "nbformat": 4,
  "nbformat_minor": 0
}