{
  "cells": [
    {
      "cell_type": "markdown",
      "metadata": {
        "id": "view-in-github",
        "colab_type": "text"
      },
      "source": [
        "<a href=\"https://colab.research.google.com/github/sivaparvathi1234/siva-parvathi_INFO5502_Spring2022/blob/main/latest.ipynb\" target=\"_parent\"><img src=\"https://colab.research.google.com/assets/colab-badge.svg\" alt=\"Open In Colab\"/></a>"
      ]
    },
    {
      "cell_type": "markdown",
      "metadata": {
        "id": "G4noITZwFMV3"
      },
      "source": [
        "## The ninth Lab-assignment (04/14/2022, 50 points in total)"
      ]
    },
    {
      "cell_type": "markdown",
      "metadata": {
        "id": "A_pYGsahFMV7"
      },
      "source": [
        "The purpose of this assignment is to practice different Hypothesis Testing."
      ]
    },
    {
      "cell_type": "markdown",
      "metadata": {
        "id": "DMJMKDH-FMV8"
      },
      "source": [
        "### Question 1 (15 points) \n",
        "\n",
        "During the 1980s, the general consensus is that about 5% of the nation’s children had autism. Some claimed that increases certain chemicals in the environment has led to an increase in autism. \n",
        "\n",
        "(1) Write an appropriate hypothesis test for this situation (5 points).  \n",
        "\n",
        "(2) Give an appropriate test for this hypothesis, stating what are the necessary conditions for performing the test (5 points). \n",
        "\n",
        "(3) A recent study examined 384 children and found that 46 showed signs of autism. Perform a test of the hypothesis and state the p-value (5 points). "
      ]
    },
    {
      "cell_type": "code",
      "execution_count": 1,
      "metadata": {
        "id": "wauhYvv4yNQf"
      },
      "outputs": [],
      "source": [
        "import scipy.stats\n",
        "import math"
      ]
    },
    {
      "cell_type": "code",
      "execution_count": 2,
      "metadata": {
        "colab": {
          "base_uri": "https://localhost:8080/"
        },
        "id": "hZzS3nD4FMV9",
        "outputId": "38933917-3ac5-44c3-bca0-b4578cf98c20"
      },
      "outputs": [
        {
          "output_type": "stream",
          "name": "stdout",
          "text": [
            "No of children i.e. population 384\n",
            "observed proportion 0.11979166666666667\n",
            "probability significance level 0.05\n"
          ]
        }
      ],
      "source": [
        "\n",
        "n=384\n",
        "p=46/384\n",
        "alpha=0.05\n",
        "print(\"No of children i.e. population\",n)\n",
        "print(\"observed proportion\",p)\n",
        "print(\"probability significance level\",alpha)"
      ]
    },
    {
      "cell_type": "code",
      "execution_count": 3,
      "metadata": {
        "colab": {
          "base_uri": "https://localhost:8080/"
        },
        "id": "TTAwo-U5vm2h",
        "outputId": "bc39cf00-c2f1-4ced-e336-ae06c4a629b6"
      },
      "outputs": [
        {
          "output_type": "stream",
          "name": "stdout",
          "text": [
            "z-score: 6.27512493759735\n"
          ]
        }
      ],
      "source": [
        "\n",
        "z=(p-alpha)/math.sqrt((alpha*(1-alpha))/n)\n",
        "print('z-score:',z)"
      ]
    },
    {
      "cell_type": "code",
      "execution_count": 4,
      "metadata": {
        "colab": {
          "base_uri": "https://localhost:8080/"
        },
        "id": "R59n3hLex7Tt",
        "outputId": "b2b19c30-c21f-47fe-d4c0-020d58439ce0"
      },
      "outputs": [
        {
          "output_type": "stream",
          "name": "stdout",
          "text": [
            "P-value: 0.001\n"
          ]
        }
      ],
      "source": [
        "\n",
        "p_value =1 - int((scipy.stats.t.cdf(z, df=n-1))*1000)/1000\n",
        "print('P-value:',int((p_value)*1000)/1000)"
      ]
    },
    {
      "cell_type": "markdown",
      "metadata": {
        "id": "zBy9WGTvFMV9"
      },
      "source": [
        "### Question 2 (15 points) \n",
        "\n",
        "National data in the 1960s showed that about 44% of the adult population had never smoked. \n",
        "\n",
        "(1) State a null and alternative hypothesis to test that the fraction of the 1995 population of adults that had never smoked had increased (5 points).  \n",
        "\n",
        "(2) A national random sample of 891 adults were interviewed and 463 stated that they had never smoked. Perform a z-test of the hypothesis and give an approriate p-value (5 points). \n",
        "\n",
        "(3) Create a 98% confidence interval for the proportion of adults who had never been smokers (5 points). "
      ]
    },
    {
      "cell_type": "code",
      "execution_count": 5,
      "metadata": {
        "colab": {
          "base_uri": "https://localhost:8080/"
        },
        "id": "duUt-E6wFMV-",
        "outputId": "56a86a53-2888-4cd8-cbe3-6a9d38074d66"
      },
      "outputs": [
        {
          "output_type": "stream",
          "name": "stdout",
          "text": [
            "No of children i.e. population 891\n",
            "observed proportion 0.5196408529741863\n",
            "probability significance level 0.44\n"
          ]
        }
      ],
      "source": [
        "\n",
        "n=891\n",
        "p=463/891\n",
        "alpha=0.44\n",
        "print(\"No of children i.e. population\",n)\n",
        "print(\"observed proportion\",p)\n",
        "print(\"probability significance level\",alpha)"
      ]
    },
    {
      "cell_type": "code",
      "execution_count": 6,
      "metadata": {
        "colab": {
          "base_uri": "https://localhost:8080/"
        },
        "id": "Gn2r5n7ncHf9",
        "outputId": "ad33ea02-8a8a-4222-a9f7-753236b245cc"
      },
      "outputs": [
        {
          "output_type": "stream",
          "name": "stdout",
          "text": [
            "z-score: 4.7891054863903095\n"
          ]
        }
      ],
      "source": [
        "\n",
        "z=(p-alpha)/math.sqrt((alpha*(1-alpha))/n)\n",
        "print('z-score:',z)"
      ]
    },
    {
      "cell_type": "code",
      "execution_count": 7,
      "metadata": {
        "colab": {
          "base_uri": "https://localhost:8080/"
        },
        "id": "I79kFeNLcFYX",
        "outputId": "29d02a3e-6fbe-4cee-9a19-9427b9d91c38"
      },
      "outputs": [
        {
          "output_type": "stream",
          "name": "stdout",
          "text": [
            "P-value: 0.001\n"
          ]
        }
      ],
      "source": [
        "\n",
        "p_value =1 - int((scipy.stats.t.cdf(z, df=n-1))*1000)/1000\n",
        "print('P-value:',int((p_value)*1000)/1000)"
      ]
    },
    {
      "cell_type": "code",
      "execution_count": 8,
      "metadata": {
        "colab": {
          "base_uri": "https://localhost:8080/"
        },
        "id": "9r4PpDUWdnI4",
        "outputId": "49f19947-5d19-4237-ca9d-d4fecb81ce97"
      },
      "outputs": [
        {
          "output_type": "stream",
          "name": "stdout",
          "text": [
            "98% confidence interval who had never been smokers is: (0.48, 0.56)\n"
          ]
        }
      ],
      "source": [
        "\n",
        "ci=round(p-z/2*(math.sqrt(p*(1-p)/n)),3),round(p+z/2*(math.sqrt(p*(1-p)/n)),3)\n",
        "print('98% confidence interval who had never been smokers is:',ci)"
      ]
    },
    {
      "cell_type": "markdown",
      "metadata": {
        "id": "9oi1WyDvFMV_"
      },
      "source": [
        "### Question 3 (15 points) \n",
        "In this problem,we will examine the sugar content of several national brands of cereals, here measured as a percentage of weight.\n",
        "\n",
        "![assignmen_9.png](attachment:assignmen_9.png)\n",
        "\n",
        "(1) Give a summary of these two datasets (5 points). \n",
        "\n",
        "(2) Create side-by-side boxplots and interpret what you see (5 points). \n",
        "\n",
        "(3) Use python to create a 95% confidence interval for the difference in mean sugar content and explain your result (5 points). "
      ]
    },
    {
      "cell_type": "code",
      "execution_count": 9,
      "metadata": {
        "id": "PwH4t0CjO2G_"
      },
      "outputs": [],
      "source": [
        "\n",
        "import warnings\n",
        "warnings.filterwarnings('ignore')\n",
        "import pandas as pd\n",
        "import matplotlib.pyplot as plt\n",
        "import statsmodels.stats.api as sms\n"
      ]
    },
    {
      "cell_type": "code",
      "execution_count": 10,
      "metadata": {
        "colab": {
          "base_uri": "https://localhost:8080/"
        },
        "id": "rmc6ejiDFMV_",
        "outputId": "5ea1d1aa-63a3-472c-c987-bee38746b423"
      },
      "outputs": [
        {
          "output_type": "stream",
          "name": "stdout",
          "text": [
            " children\n",
            "     40.3\n",
            "     55.0\n",
            "     45.7\n",
            "     43.3\n",
            "     50.3\n"
          ]
        }
      ],
      "source": [
        "children={'children':[40.3,55.0,45.7,43.3,50.3,45.9,53.5,43.0,44.2,44.0,33.6,55.1,48.8,50.4,37.8,60.3,46.6,47.4,44.0]}\n",
        "childrenDataset=pd.DataFrame(children)\n",
        "print(childrenDataset.head(5).to_string(index=False))"
      ]
    },
    {
      "cell_type": "code",
      "execution_count": 11,
      "metadata": {
        "colab": {
          "base_uri": "https://localhost:8080/"
        },
        "id": "rVjwexZPL5uh",
        "outputId": "2b81a6f9-2cf8-4d78-95d5-a7e11f90c538"
      },
      "outputs": [
        {
          "output_type": "stream",
          "name": "stdout",
          "text": [
            " adult\n",
            "  20.0\n",
            "  30.2\n",
            "   2.2\n",
            "   7.5\n",
            "   4.4\n"
          ]
        }
      ],
      "source": [
        "adult={'adult':[20.0,30.2,2.2,7.5,4.4,22.2,16.6,14.5,21.4,3.3,10.0,1.0,4.4,1.3,8.1,6.6,7.8,10.6,10.6,16.2,14.5,4.1,15.8,4.1,2.4,3.5,8.5,4.7,18.4]}\n",
        "adultDataset=pd.DataFrame(adult)\n",
        "print(adultDataset.head(5).to_string(index=False))"
      ]
    },
    {
      "cell_type": "code",
      "execution_count": null,
      "metadata": {
        "colab": {
          "base_uri": "https://localhost:8080/"
        },
        "id": "TaeSIUx0L_VQ",
        "outputId": "8ea920d9-0956-4506-cea5-6dd0befbc885"
      },
      "outputs": [
        {
          "name": "stdout",
          "output_type": "stream",
          "text": [
            "Summary Statistics of the Children Dataset\n",
            "        children\n",
            "count  19.000000\n",
            "mean   46.800000\n",
            "std     6.418376\n",
            "min    33.600000\n",
            "25%    43.650000\n",
            "50%    45.900000\n",
            "75%    50.350000\n",
            "max    60.300000\n"
          ]
        }
      ],
      "source": [
        "print('Summary Statistics of the Children Dataset')\n",
        "print(childrenDataset.describe())"
      ]
    },
    {
      "cell_type": "code",
      "execution_count": 12,
      "metadata": {
        "colab": {
          "base_uri": "https://localhost:8080/"
        },
        "id": "ajIIxJt1MQb9",
        "outputId": "5cac1459-429c-4fdb-a4f7-36c8957ab213"
      },
      "outputs": [
        {
          "output_type": "stream",
          "name": "stdout",
          "text": [
            "Summary Statistics of the Adult Dataset\n",
            "           adult\n",
            "count  29.000000\n",
            "mean   10.168966\n",
            "std     7.475680\n",
            "min     1.000000\n",
            "25%     4.100000\n",
            "50%     8.100000\n",
            "75%    15.800000\n",
            "max    30.200000\n"
          ]
        }
      ],
      "source": [
        "print('Summary Statistics of the Adult Dataset')\n",
        "print(adultDataset.describe())"
      ]
    },
    {
      "cell_type": "code",
      "execution_count": 13,
      "metadata": {
        "colab": {
          "base_uri": "https://localhost:8080/",
          "height": 429
        },
        "id": "hmjhfDOxFMV_",
        "outputId": "6557c647-ade9-4438-f446-e66fe87bbef3"
      },
      "outputs": [
        {
          "output_type": "display_data",
          "data": {
            "text/plain": [
              "<Figure size 504x360 with 1 Axes>"
            ],
            "image/png": "[encoded data removed]"
          },
          "metadata": {
            "needs_background": "light"
          }
        }
      ],
      "source": [
        "fig=plt.figure(figsize=(7,5))\n",
        "ax = fig.add_axes([0,0,1,1]) \n",
        "ax.boxplot([childrenDataset['children'],adultDataset['adult']],widths=0.6)\n",
        "plt.title(\"Box Plots of Children and Adult\",fontsize=20)\n",
        "ax.set_xticklabels(['children','adult'])\n",
        "plt.show()"
      ]
    },
    {
      "cell_type": "markdown",
      "metadata": {
        "id": "fv64T1BkFMWA"
      },
      "source": [
        "### Question 4 (15 points, with 10 extra point included) A/B Testing"
      ]
    },
    {
      "cell_type": "markdown",
      "metadata": {
        "id": "fJRp6iH1FMWA"
      },
      "source": [
        "Punishment for crime has many [philosophical justifications](http://plato.stanford.edu/entries/punishment/#ThePun).  An important one is that fear of punishment may *deter* people from committing crimes.\n",
        "\n",
        "In the United States, some jurisdictions execute people who are convicted of particularly serious crimes, such as murder.  This punishment is called the *death penalty* or *capital punishment*.  The death penalty is controversial, and deterrence has been one focal point of the debate.  There are other reasons to support or oppose the death penalty, but in this project we'll focus on deterrence.\n",
        "\n",
        "The key question about deterrence is:\n",
        "\n",
        "> Through our exploration, does instituting a death penalty for murder actually reduce the number of murders?\n",
        "\n",
        "You might have a strong intuition in one direction, but the evidence turns out to be surprisingly complex.  Different sides have variously argued that the death penalty has no deterrent effect and that each execution prevents 8 murders, all using statistical arguments!  We'll try to come to our own conclusion.\n",
        "\n",
        "#### The data\n",
        "\n",
        "The main data source for this lab comes from a [paper](http://cjlf.org/deathpenalty/DezRubShepDeterFinal.pdf) by three researchers, Dezhbakhsh, Rubin, and Shepherd.  The dataset contains rates of various violent crimes for every year 1960-2003 (44 years) in every US state.  The researchers compiled the data from the FBI's Uniform Crime Reports.\n",
        "\n",
        "Since crimes are committed by people, not states, we need to account for the number of people in each state when we're looking at state-level data.  Murder rates are calculated as follows:\n",
        "\n",
        "$$\\text{murder rate for state X in year Y} = \\frac{\\text{number of murders in state X in year Y}}{\\text{population in state X in year Y}}*100000$$\n",
        "\n",
        "(Murder is rare, so we multiply by 100,000 just to avoid dealing with tiny numbers.)\n",
        "\n",
        "Murder rates vary over time, and different states exhibit different trends. The rates in some states change dramatically from year to year, while others are quite stable. Let's plot a couple, just to see the variety.\n",
        "\n",
        "*Hint*: To create two lines, you will need create the table `ak_mn` with two columns of murder rates, in addition to a column of years. This table will have the following structure:\n",
        "\n",
        "| Year | Murder rate in Alaska | Murder rate in Minnesota |\n",
        "|------|-----------------------|--------------------------|\n",
        "| 1960 | 10.2                  | 1.2                      |\n",
        "| 1961 | 11.5                  | 1                        |\n",
        "| 1962 | 4.5                   | 0.9                      |\n",
        "\n",
        "<center>... (41 rows omitted)</center>\n",
        "\n",
        "Some US states have the death penalty, and others don't, and laws have changed over time. In addition to changes in murder rates, we will also consider whether the death penalty was in force in each state and each year.\n",
        "\n",
        "Using this information, we would like to investigate how the presence of the death penalty affects the murder rate of a state."
      ]
    },
    {
      "cell_type": "markdown",
      "metadata": {
        "id": "0RMsjBPwFMWA"
      },
      "source": [
        "(1) Use preban_rates_copy and postban_rates to create a table change_in_death_rates that contains each state's population, murder rate, and whether or not that state had the death penalty for both 1971 and 1973. (5 points)\n",
        "\n",
        "Create a table rate_means that contains the average murder rates for the states that had the death penalty and the states that didn't have the death penalty. It should have two columns: one indicating if the penalty was in place, and one that contains the average murder rate for each group.\n",
        "\n",
        "Hint: tbl_1.append(tbl_2) with create a new table that includes rows from both tbl_1 and tbl_2. Both tables must have the exactly the same columns, in the same order.\n",
        "\n",
        "(2) We want to figure out if there is a difference between the distribution of death rates in 1971 and 1973. Specifically, we want to test if murder rates were higher in 1973 than they were in 1971. You are required to conduct A/B Testing below (10 points):\n",
        "\n",
        "(2-1) Set observed_difference to the observed test statistic using the rate_means table. \n",
        "\n",
        "\n",
        "(2-2) Given a table like change_in_death_rates, a value column label, and a group column group_label, write a function that calculates the appropriate test statistic.\n",
        "\n",
        "(2-3) Write a function simulate_and_test_statistic to compute one trial of our A/B test. Your function should run a simulation and return a test statistic.\n",
        "\n",
        "(2-4) Simulate 5000 trials of our A/B test and store the test statistics in an array called differences.\n",
        "\n",
        "(2-5) Find the p-value for your test and assign it to empirical_P.\n",
        "\n",
        "(2-6) Using a 5% P-value cutoff, draw a conclusion about the null and alternative hypotheses. Describe your findings using simple, non-technical language. What does your analysis tell you about murder rates after the death penalty was suspended? What can you claim about causation from your statistical analysis?\n"
      ]
    },
    {
      "cell_type": "code",
      "execution_count": 14,
      "metadata": {
        "id": "bjrvqplzFMWB"
      },
      "outputs": [],
      "source": [
        "\n",
        "import pandas as pd\n",
        "import warnings\n",
        "import numpy as np\n",
        "warnings.filterwarnings('ignore')\n",
        "from statistics import mean\n",
        "from datascience import Table,make_array\n",
        "from datascience.predicates import are\n",
        "import matplotlib.pyplot as plt"
      ]
    },
    {
      "cell_type": "code",
      "execution_count": null,
      "metadata": {
        "colab": {
          "base_uri": "https://localhost:8080/"
        },
        "id": "Mvft9X6gRHLN",
        "outputId": "fddb8f77-3b53-4183-c76a-fb4b6d2e3abf"
      },
      "outputs": [
        {
          "name": "stdout",
          "output_type": "stream",
          "text": [
            " State  Year  Population  Violent Crime Rate  Murder Rate  Forcible Rape Rate  Robbery Rate  Aggraveted Assault Rate  Property Crime Rate  Burglary Rate  Larceny & Theft Rate  Motor Vehicle Theft Rate\n",
            "Alaska  1960      226167          104.300003         10.2           20.799999     28.299999                45.099998          1544.900024     332.100006            970.500000                242.300003\n",
            "Alaska  1961      234000           88.900002         11.5           13.200000     12.400000                51.700001          1540.599976     380.799988            950.000000                209.800003\n",
            "Alaska  1962      246000           91.500000          4.5           18.700001     13.800000                54.500000          1564.599976     351.600006            985.400024                227.600006\n",
            "Alaska  1963      248000          109.699997          6.5           14.900000     22.200001                66.099998          1952.800049     381.500000           1213.699951                357.700012\n",
            "Alaska  1964      250000          150.000000         10.4           22.400000     21.200001                96.000000          2016.000000     443.600006           1218.400024                354.000000\n"
          ]
        }
      ],
      "source": [
        "df=pd.read_csv('https://raw.githubusercontent.com/AmithReddyKasarla/AmithReddy_INFO5502_Spring2022/main/crime_rates.csv',sep=',')\n",
        "print(df.head(5).to_string(index=False))"
      ]
    },
    {
      "cell_type": "code",
      "execution_count": null,
      "metadata": {
        "colab": {
          "base_uri": "https://localhost:8080/",
          "height": 235
        },
        "id": "pzfr2yigUO_6",
        "outputId": "df4f6377-33a8-428c-879d-f2ee70a9bfa3"
      },
      "outputs": [
        {
          "data": {
            "text/html": [
              "<table border=\"1\" class=\"dataframe\">\n",
              "    <thead>\n",
              "        <tr>\n",
              "            <th>State</th> <th>Year</th> <th>Population</th> <th>Murder Rate</th>\n",
              "        </tr>\n",
              "    </thead>\n",
              "    <tbody>\n",
              "        <tr>\n",
              "            <td>Alaska</td> <td>1960</td> <td>226167    </td> <td>10.2       </td>\n",
              "        </tr>\n",
              "        <tr>\n",
              "            <td>Alaska</td> <td>1961</td> <td>234000    </td> <td>11.5       </td>\n",
              "        </tr>\n",
              "        <tr>\n",
              "            <td>Alaska</td> <td>1962</td> <td>246000    </td> <td>4.5        </td>\n",
              "        </tr>\n",
              "        <tr>\n",
              "            <td>Alaska</td> <td>1963</td> <td>248000    </td> <td>6.5        </td>\n",
              "        </tr>\n",
              "        <tr>\n",
              "            <td>Alaska</td> <td>1964</td> <td>250000    </td> <td>10.4       </td>\n",
              "        </tr>\n",
              "    </tbody>\n",
              "</table>\n",
              "<p>... (2195 rows omitted)</p>"
            ],
            "text/plain": [
              "<IPython.core.display.HTML object>"
            ]
          },
          "metadata": {},
          "output_type": "display_data"
        }
      ],
      "source": [
        "murders=Table.from_df(df[['State','Year','Population','Murder Rate']])\n",
        "murders.show(5)"
      ]
    },
    {
      "cell_type": "code",
      "execution_count": null,
      "metadata": {
        "colab": {
          "base_uri": "https://localhost:8080/",
          "height": 235
        },
        "id": "rhOULLc2byF_",
        "outputId": "9fd06b05-fdc6-44e2-d4bf-78224ef65ce9"
      },
      "outputs": [
        {
          "data": {
            "text/html": [
              "<table border=\"1\" class=\"dataframe\">\n",
              "    <thead>\n",
              "        <tr>\n",
              "            <th>Year</th> <th>Murder rate in Alaska</th> <th>Murder rate in Minnesota</th>\n",
              "        </tr>\n",
              "    </thead>\n",
              "    <tbody>\n",
              "        <tr>\n",
              "            <td>1960</td> <td>10.2                 </td> <td>1.2                     </td>\n",
              "        </tr>\n",
              "        <tr>\n",
              "            <td>1961</td> <td>11.5                 </td> <td>1                       </td>\n",
              "        </tr>\n",
              "        <tr>\n",
              "            <td>1962</td> <td>4.5                  </td> <td>0.9                     </td>\n",
              "        </tr>\n",
              "        <tr>\n",
              "            <td>1963</td> <td>6.5                  </td> <td>1.2                     </td>\n",
              "        </tr>\n",
              "        <tr>\n",
              "            <td>1964</td> <td>10.4                 </td> <td>1.4                     </td>\n",
              "        </tr>\n",
              "    </tbody>\n",
              "</table>\n",
              "<p>... (39 rows omitted)</p>"
            ],
            "text/plain": [
              "<IPython.core.display.HTML object>"
            ]
          },
          "metadata": {},
          "output_type": "display_data"
        }
      ],
      "source": [
        "ak_mn = Table().with_columns(\"Year\", list(df['Year'].unique()),\n",
        "                             \"Murder rate in Alaska\",df['Murder Rate'].loc[df['State']=='Alaska'],\n",
        "                             \"Murder rate in Minnesota\",df['Murder Rate'].loc[df['State']=='Minnesota'])\n",
        "ak_mn.show(5)"
      ]
    },
    {
      "cell_type": "code",
      "execution_count": null,
      "metadata": {
        "colab": {
          "base_uri": "https://localhost:8080/",
          "height": 630
        },
        "id": "9anI-aXFiCCh",
        "outputId": "39e3258f-a2ec-440a-8b34-791b4ca19c09"
      },
      "outputs": [
        {
          "data": {
            "image/png": "[encoded data removed]",
            "text/plain": [
              "<Figure size 720x720 with 1 Axes>"
            ]
          },
          "metadata": {
            "needs_background": "light"
          },
          "output_type": "display_data"
        }
      ],
      "source": [
        "plt.figure(figsize=(10,10))\n",
        "plt.title('Murder Rates in Alaska and Minnesota Over Years',fontsize=18)\n",
        "plt.plot(ak_mn['Year'],ak_mn['Murder rate in Alaska'],label='Alaska')\n",
        "plt.plot(ak_mn['Year'],ak_mn['Murder rate in Minnesota'],label='Minnesota')\n",
        "plt.xlabel('Year',fontsize=16)\n",
        "plt.ylabel('Murder Rate',fontsize=16)\n",
        "plt.legend()\n",
        "plt.grid()\n",
        "plt.show()"
      ]
    },
    {
      "cell_type": "code",
      "execution_count": null,
      "metadata": {
        "id": "pE0cebX1REq6"
      },
      "outputs": [],
      "source": [
        "def hadDeathPenalty(state):\n",
        "  if state in noDeathPenaltyrates:\n",
        "    return False\n",
        "  else:\n",
        "    return True"
      ]
    },
    {
      "cell_type": "code",
      "execution_count": null,
      "metadata": {
        "colab": {
          "base_uri": "https://localhost:8080/",
          "height": 392
        },
        "id": "4MOA6YLyT0Kb",
        "outputId": "6cb2f498-a0ea-4cb8-ae42-702a71674aaf"
      },
      "outputs": [
        {
          "data": {
            "text/html": [
              "<table border=\"1\" class=\"dataframe\">\n",
              "    <thead>\n",
              "        <tr>\n",
              "            <th>State</th> <th>hadDeathPenalty</th>\n",
              "        </tr>\n",
              "    </thead>\n",
              "    <tbody>\n",
              "        <tr>\n",
              "            <td>Alabama    </td> <td>True           </td>\n",
              "        </tr>\n",
              "        <tr>\n",
              "            <td>Alaska     </td> <td>False          </td>\n",
              "        </tr>\n",
              "        <tr>\n",
              "            <td>Arizona    </td> <td>True           </td>\n",
              "        </tr>\n",
              "        <tr>\n",
              "            <td>Arkansas   </td> <td>True           </td>\n",
              "        </tr>\n",
              "        <tr>\n",
              "            <td>California </td> <td>True           </td>\n",
              "        </tr>\n",
              "        <tr>\n",
              "            <td>Colorado   </td> <td>True           </td>\n",
              "        </tr>\n",
              "        <tr>\n",
              "            <td>Connecticut</td> <td>True           </td>\n",
              "        </tr>\n",
              "        <tr>\n",
              "            <td>Delaware   </td> <td>True           </td>\n",
              "        </tr>\n",
              "        <tr>\n",
              "            <td>Florida    </td> <td>True           </td>\n",
              "        </tr>\n",
              "        <tr>\n",
              "            <td>Georgia    </td> <td>True           </td>\n",
              "        </tr>\n",
              "    </tbody>\n",
              "</table>\n",
              "<p>... (40 rows omitted)</p>"
            ],
            "text/plain": [
              "State       | hadDeathPenalty\n",
              "Alabama     | True\n",
              "Alaska      | False\n",
              "Arizona     | True\n",
              "Arkansas    | True\n",
              "California  | True\n",
              "Colorado    | True\n",
              "Connecticut | True\n",
              "Delaware    | True\n",
              "Florida     | True\n",
              "Georgia     | True\n",
              "... (40 rows omitted)"
            ]
          },
          "execution_count": 30,
          "metadata": {},
          "output_type": "execute_result"
        }
      ],
      "source": [
        "noDeathPenaltyrates = ['Alaska','Michigan','Minnesota','Hawaii']\n",
        "states = murders.group('State').select('State')\n",
        "deathPenalty = states.with_column('hadDeathPenalty', states.apply(hadDeathPenalty, 0))\n",
        "deathPenalty"
      ]
    },
    {
      "cell_type": "code",
      "execution_count": null,
      "metadata": {
        "id": "u-TmpCE-4Wwm"
      },
      "outputs": [],
      "source": [
        ""
      ]
    }
  ],
  "metadata": {
    "colab": {
      "collapsed_sections": [],
      "name": "latest.ipynb",
      "provenance": [],
      "include_colab_link": true
    },
    "kernelspec": {
      "display_name": "Python 3",
      "language": "python",
      "name": "python3"
    },
    "language_info": {
      "codemirror_mode": {
        "name": "ipython",
        "version": 3
      },
      "file_extension": ".py",
      "mimetype": "text/x-python",
      "name": "python",
      "nbconvert_exporter": "python",
      "pygments_lexer": "ipython3",
      "version": "3.8.5"
    }
  },
  "nbformat": 4,
  "nbformat_minor": 0
}