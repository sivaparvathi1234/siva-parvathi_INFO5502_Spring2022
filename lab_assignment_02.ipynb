{
  "cells": [
    {
      "cell_type": "markdown",
      "metadata": {
        "id": "view-in-github",
        "colab_type": "text"
      },
      "source": [
        "<a href=\"https://colab.research.google.com/github/sivaparvathi1234/siva-parvathi_INFO5502_Spring2022/blob/main/lab_assignment_02.ipynb\" target=\"_parent\"><img src=\"https://colab.research.google.com/assets/colab-badge.svg\" alt=\"Open In Colab\"/></a>"
      ]
    },
    {
      "cell_type": "markdown",
      "metadata": {
        "id": "Ryk8D1Q4Wsrp"
      },
      "source": [
        "# **The second Lab-assignment (02/04/2022, 50 points in total)**"
      ]
    },
    {
      "cell_type": "markdown",
      "metadata": {
        "id": "90_NR8c5XGWc"
      },
      "source": [
        "# Question 1\n",
        "\n",
        "(5 points). Write a Python program to generate 12 random numbers between 1 and 100. Sort the list of numbers in ascending order and print it out. Sort the list of numbers in descending order and print it out. Calculate the average for the group and print it out."
      ]
    },
    {
      "cell_type": "code",
      "execution_count": 4,
      "metadata": {
        "colab": {
          "base_uri": "https://localhost:8080/"
        },
        "id": "5QX6bJjGWXY9",
        "outputId": "d829cfa4-ed6f-49f2-ba16-b0c6e2bf3a56"
      },
      "outputs": [
        {
          "output_type": "stream",
          "name": "stdout",
          "text": [
            "List:\n",
            "[22, 71, 61, 87, 81, 25, 22, 29, 70, 33, 66, 1]\n",
            "Ascending order : \n",
            "[1, 22, 22, 25, 29, 33, 61, 66, 70, 71, 81, 87]\n",
            "Descending order :\n",
            "[87, 81, 71, 70, 66, 61, 33, 29, 25, 22, 22, 1]\n",
            "Average :\n",
            "47.333333333333336\n"
          ]
        }
      ],
      "source": [
        "import random\n",
        "program=[random.randint(1,100) \n",
        "                 for i in range(12)]\n",
        "print(\"List:\\n{}\".format(program)) # To print the list of 12 random numbers\n",
        "print(\"Ascending order : \\n{}\".format(sorted(program)))\n",
        "print(\"Descending order :\\n{}\".format(sorted(program,reverse=True))) # To print the descending order of 12 numbers\n",
        "print(\"Average :\\n{}\".format(sum(program)/len(program))) # Average of  12 random numbers from 1 to 100\n",
        "\n"
      ]
    },
    {
      "cell_type": "markdown",
      "metadata": {
        "id": "1F_PZdH9Sh49"
      },
      "source": [
        "# Question 2\n",
        "(20 points). Write a program that will do the following string formatting tasks:\n",
        "\n",
        "(1) Ask the user to enter two sentences.\n",
        "\n",
        "(2) Make each sentence into a list. Each element in the list should correspond to a word in the sentence. For example, if the sentence is \"Alas! Am I alive? This is my first python program\", the program should print out ['Alas, '!', 'Am', 'I', 'alive, '?', 'This', 'is', 'my', 'first', 'python', 'program'].\n",
        "\n",
        "(3) Compare the two sentences. Print out a list of words that occur in both sentences.\n",
        "\n",
        "(4) Remove any punctuation from the sentence and print it back out. It should remove at least the following characters, but it can remove more: period(“.”), comma (“,”), semicolon (“;”), and colon (“:”)\n",
        "\n",
        "(5) Count the number of vowels in the sentences. Print out each vowel and the number of times it appears in the sentences, such as: a:2, e:1, i:0, etc"
      ]
    },
    {
      "cell_type": "code",
      "execution_count": 10,
      "metadata": {
        "colab": {
          "base_uri": "https://localhost:8080/"
        },
        "id": "Y0oOSlsOS0cq",
        "outputId": "7db86c4b-6748-4428-b0bb-dbc3a3533630"
      },
      "outputs": [
        {
          "output_type": "stream",
          "name": "stdout",
          "text": [
            "i am a good student\n",
            "i am parvathi guduri \n",
            "['i', 'am', 'a', 'good', 'student']\n",
            "['i', 'am', 'parvathi', 'guduri', '']\n",
            "Similar words:\n",
            "i\n",
            "am\n",
            "i am a good student\n",
            "i am parvathi guduri \n",
            "{'a': 2, 'e': 1, 'i': 1, 'o': 2, 'u': 1}\n",
            "{'a': 3, 'e': 0, 'i': 3, 'o': 0, 'u': 2}\n"
          ]
        }
      ],
      "source": [
        "from collections import Counter\n",
        "a1= input()\n",
        "a2= input()\n",
        "print(a1.split(\" \"))\n",
        "print(a2.split(\" \"))\n",
        "print(\"Similar words:\")\n",
        "for i in a1.split(\" \"):\n",
        "  if i in a2.split(\" \"):\n",
        "    print(i)\n",
        "s=['.',',',':',';','!',\"?\"]\n",
        "for i in a1:\n",
        "  if i in s:\n",
        "    print(i)\n",
        "    a1=a1.replace(i, '')\n",
        "\n",
        "print(a1)\n",
        "for i in a2:\n",
        "  if i in s:\n",
        "    print(i)\n",
        "    a2=a2.replace(i,'')\n",
        "print(a2)\n",
        "sp1,sp2={},{}\n",
        "for i in 'aeiou':\n",
        "  sp1[i]=a1.lower().count(i)\n",
        "  sp2[i]=a2.lower().count(i)\n",
        "print(sp1,sp2,sep='\\n')"
      ]
    },
    {
      "cell_type": "markdown",
      "metadata": {
        "id": "CmFoI4jDS9nx"
      },
      "source": [
        "# Question 3 \n",
        "\n",
        "(5 points). The formula that describes the volume V of a sphere with radius r is the following:\n",
        "\n",
        "$ V=\\frac{4}{3}\\ast\\ \\pi\\ast\\ r^3 $\n",
        "\n",
        "Write a program to calculate the value of V when r is in the range of 1–10. Output the result in the following format:\n",
        "\n",
        "\tr\tV\n",
        "\t1\t…\n",
        "\t2\t…\n",
        "\t3\t…\n"
      ]
    },
    {
      "cell_type": "code",
      "execution_count": 14,
      "metadata": {
        "colab": {
          "base_uri": "https://localhost:8080/"
        },
        "id": "pEyqeioAT95b",
        "outputId": "5ff2b0ae-8f24-4809-b26a-041a875921f1"
      },
      "outputs": [
        {
          "output_type": "stream",
          "name": "stdout",
          "text": [
            "r        v\n",
            "1        4.1887902047863905\n",
            "2        33.510321638291124\n",
            "3        113.09733552923254\n",
            "4        268.082573106329\n",
            "5        523.5987755982989\n",
            "6        904.7786842338603\n",
            "7        1436.7550402417319\n",
            "8        2144.660584850632\n",
            "9        3053.6280592892786\n"
          ]
        }
      ],
      "source": [
        "import math\n",
        "print(\"r        v\")\n",
        "for r in range(1,10):\n",
        "  v = (4/3) * math.pi * (r**3)\n",
        "  print(\"{}        {}\".format(r,v))\n",
        "\n"
      ]
    },
    {
      "cell_type": "markdown",
      "metadata": {
        "id": "z3tBE7E-Xn5X"
      },
      "source": [
        "# Question 4\n",
        "\n",
        "(20 points). In the field of Data Science, data is often formatted as a comma-delimited (CSV) file, where each line in a file corresponds to a field's value. Refer to Chapter 9 (p. 106) for more information on comma-delimited files. To answer this question, you will need to download the file [lab_assignment_02_denton_housing.csv](https://raw.githubusercontent.com/unt-iialab/info5502-spring2022/main/datasets/lab_assignment_02_denton_housing.csv) included with this assignment. The file [lab_assignment_02_denton_housing.csv](https://raw.githubusercontent.com/unt-iialab/info5502-spring2022/main/datasets/lab_assignment_02_denton_housing.csv) contains statistics about housing in the city of Denton from 2008 to 2014. Write a program to implement the following questions.\n",
        "\n",
        "(1) (10 pts) Calculate the difference in the number of Occupied Housing Units from year to year and print it. The difference must be calculated for the consecutive years such as 2008-2009, 2009-2010 etc. Finally, print the values in the ascending order.\n",
        "\n",
        "(2) (10 pts) For all the years, calculate the percentage of housing units which are vacant an occupied. Print the results in the following format:\n",
        "\n",
        "Year Vacant Housing Units Occupied Housing Units\n",
        "\n",
        "    2008  30%   70%                          \n",
        "\t2009 ----- -----\n",
        "\t2010 ----- -----\n",
        "    2011 ----- -----\n",
        "\t2012 ----- -----\n",
        "    2013 ----- -----\n",
        "\t2014 ----- -----\n",
        "  \n",
        "  \n",
        "\n",
        "(3) (10 pts) Calculate and print the valued and years in which the highest number of housing units were vacant and occupied. Print the results in the following format:  \n",
        "\n",
        "                              Year\tValue\n",
        "\tVacant Housing Units\t  -----   -----\n",
        "\tOccupied Housing Units\t-----   -----\n",
        "\n",
        "(4) (10 pts) Calculate the harmonic mean of the total housing units and print it out. You can find the information about harmonic mean here: https://ncalculators.com/statistics/harmonic-mean-calculator.htm"
      ]
    },
    {
      "cell_type": "code",
      "execution_count": 29,
      "metadata": {
        "colab": {
          "base_uri": "https://localhost:8080/"
        },
        "id": "lqGYuHBhcsRH",
        "outputId": "21bc37fa-48ea-475b-c1eb-f3bda234291f"
      },
      "outputs": [
        {
          "output_type": "stream",
          "name": "stdout",
          "text": [
            "    Years  Difference\n",
            "2009-2010       -5091\n",
            "2013-2014       -2622\n",
            "2012-2013       -1565\n",
            "2011-2012       -1404\n",
            "2010-2011         303\n",
            "2008-2009         795\n",
            " Year Vacant Housing Units Occupied Housing Units\n",
            " 2008   10.88265281351653%    89.11734718648347% \n",
            " 2009    9.07111572444872%    90.92888427555128% \n",
            " 2010   8.142556337081672%    91.85744366291833% \n",
            " 2011   9.379522229890688%     90.6204777701093% \n",
            " 2012   6.677600230491346%    93.32239976950866% \n",
            " 2013   8.801787504176412%    91.19821249582358% \n",
            " 2014   5.730110570363885%    94.26988942963611% \n",
            "                        Year  Value\n",
            "  Vacant Housing Units  2008   4483\n",
            "Occupied Housing Units  2014  46295\n",
            "Total Housing Units    44398.28544\n"
          ]
        }
      ],
      "source": [
        "import pandas as pd\n",
        "df=pd.read_csv('https://raw.githubusercontent.com/gantaphani/Phanesh_INFO5502_Spring2022/main/lab_assignment_02_denton_housing.csv')\n",
        "occupiedHousingUnits = df.loc[df['title_field'] == 'Occupied Housing Units'].sort_values(by=['year'], ascending=True)\n",
        "\n",
        "occupiedHousingUnits = occupiedHousingUnits.assign(\n",
        "    Years=occupiedHousingUnits['year'].map(str) + '-' + occupiedHousingUnits['year'].shift(-1).fillna(-999).astype(\n",
        "        int).map(str),\n",
        "    Difference=occupiedHousingUnits['value'] - occupiedHousingUnits['value'].shift(-1).fillna(0).astype(int))\n",
        "occupiedHousingUnits.drop(occupiedHousingUnits[occupiedHousingUnits['Years'].str.contains('--')].index, inplace=True)\n",
        "print(occupiedHousingUnits[['Years', 'Difference']].sort_values(by='Difference', ascending=True).to_string(index=False))\n",
        "\n",
        "totalHousingUnits = df.loc[df['title_field'] == 'Total Housing Units']\n",
        "vacantHousingUnits = df.loc[df['title_field'] == 'Vacant Housing Units']\n",
        "\n",
        "result = totalHousingUnits.merge(vacantHousingUnits, on='year', how='inner')\n",
        "\n",
        "result['Vacant Housing Units'] = ((result['value_y'] / result['value_x']) * 100).astype(str) + '%'\n",
        "result['Occupied Housing Units'] = (((result['value_x'] - result['value_y']) / result['value_x']) * 100).astype(\n",
        "    str) + '% '\n",
        "result.drop(['title_field_x', 'title_field_y', 'value_x', 'value_y'], axis=1, inplace=True)\n",
        "result.rename(columns={'year': 'Year'}, inplace=True)\n",
        "print(result.sort_values(by='Year').to_string(index=False))\n",
        "\n",
        "vacantHousingUnits = df[df['title_field'] == 'Vacant Housing Units'].sort_values(by='value', ascending=False).head(1)\n",
        "occupiedHousingUnits = df[df['title_field'] == 'Occupied Housing Units'].sort_values(by='value', ascending=False).head(\n",
        "    1)\n",
        "result = pd.concat([vacantHousingUnits, occupiedHousingUnits])\n",
        "result = result[['title_field', 'year', 'value']]\n",
        "result.rename(columns={'title_field': '', 'year': 'Year', 'value': 'Value'}, inplace=True)\n",
        "print(result.to_string(index=False))\n",
        "\n",
        "from scipy.stats.mstats import hmean\n",
        "\n",
        "result = df.loc[df['title_field'] == 'Total Housing Units'].groupby('title_field').value.apply(hmean)\n",
        "print(result.to_string(header=False))\n",
        "\n",
        "\n"
      ]
    }
  ],
  "metadata": {
    "colab": {
      "collapsed_sections": [],
      "name": "lab_assignment_02.ipynb",
      "provenance": [],
      "include_colab_link": true
    },
    "kernelspec": {
      "display_name": "Python 3",
      "language": "python",
      "name": "python3"
    },
    "language_info": {
      "codemirror_mode": {
        "name": "ipython",
        "version": 3
      },
      "file_extension": ".py",
      "mimetype": "text/x-python",
      "name": "python",
      "nbconvert_exporter": "python",
      "pygments_lexer": "ipython3",
      "version": "3.8.5"
    }
  },
  "nbformat": 4,
  "nbformat_minor": 0
}